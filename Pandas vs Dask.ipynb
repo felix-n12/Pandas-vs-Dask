{
  "cells": [
    {
      "cell_type": "markdown",
      "metadata": {
        "id": "4196jLHt2agR"
      },
      "source": [
        "# Panda alternatives"
      ]
    },
    {
      "cell_type": "markdown",
      "metadata": {
        "id": "sjU1Lcy52lGQ"
      },
      "source": [
        "### Using Dask "
      ]
    },
    {
      "cell_type": "code",
      "execution_count": null,
      "metadata": {
        "colab": {
          "base_uri": "https://localhost:8080/"
        },
        "id": "F8v4eEBMH-OQ",
        "outputId": "1dc5b8f6-84ed-4bab-f6d3-54aa03379430"
      },
      "outputs": [
        {
          "name": "stdout",
          "output_type": "stream",
          "text": [
            "Looking in indexes: https://pypi.org/simple, https://us-python.pkg.dev/colab-wheels/public/simple/\n",
            "Requirement already satisfied: dask in /usr/local/lib/python3.9/dist-packages (2022.12.1)\n",
            "Requirement already satisfied: partd>=0.3.10 in /usr/local/lib/python3.9/dist-packages (from dask) (1.3.0)\n",
            "Requirement already satisfied: toolz>=0.8.2 in /usr/local/lib/python3.9/dist-packages (from dask) (0.12.0)\n",
            "Requirement already satisfied: pyyaml>=5.3.1 in /usr/local/lib/python3.9/dist-packages (from dask) (6.0)\n",
            "Requirement already satisfied: packaging>=20.0 in /usr/local/lib/python3.9/dist-packages (from dask) (23.0)\n",
            "Requirement already satisfied: cloudpickle>=1.1.1 in /usr/local/lib/python3.9/dist-packages (from dask) (2.2.1)\n",
            "Requirement already satisfied: click>=7.0 in /usr/local/lib/python3.9/dist-packages (from dask) (8.1.3)\n",
            "Requirement already satisfied: fsspec>=0.6.0 in /usr/local/lib/python3.9/dist-packages (from dask) (2023.3.0)\n",
            "Requirement already satisfied: locket in /usr/local/lib/python3.9/dist-packages (from partd>=0.3.10->dask) (1.0.0)\n"
          ]
        }
      ],
      "source": [
        "#using dask to read the file\n",
        "#first lets install dask\n",
        "!pip install dask"
      ]
    },
    {
      "cell_type": "code",
      "execution_count": 1,
      "metadata": {
        "id": "mDLGPVDIfPiU"
      },
      "outputs": [],
      "source": [
        "#import dask to read the data\n",
        "import dask.dataframe as dd\n",
        "import time"
      ]
    },
    {
      "cell_type": "code",
      "execution_count": 3,
      "metadata": {
        "colab": {
          "base_uri": "https://localhost:8080/"
        },
        "id": "traUDMdQyhD9",
        "outputId": "94005a7c-ccd9-462f-be6b-8000e25d7ca9"
      },
      "outputs": [
        {
          "output_type": "stream",
          "name": "stdout",
          "text": [
            "0.023900985717773438\n"
          ]
        }
      ],
      "source": [
        "#use dask to read my file\n",
        "start=time.time()\n",
        "data_dask=dd.read_csv('/content/forecasting_case_study.xlsx - Sheet1.csv',dtype={'Google_Mobility':'float64'})\n",
        "end=time.time()\n",
        "dask_time_taken= end-start\n",
        "print(dask_time_taken)"
      ]
    },
    {
      "cell_type": "code",
      "execution_count": 4,
      "metadata": {
        "colab": {
          "base_uri": "https://localhost:8080/"
        },
        "id": "07xCuJkmy7fl",
        "outputId": "48854ab4-316a-4b14-85e6-aedb163fb21c"
      },
      "outputs": [
        {
          "output_type": "stream",
          "name": "stdout",
          "text": [
            "0.014356851577758789\n"
          ]
        }
      ],
      "source": [
        "#use dask to display the top five rows\n",
        "start1=time.time()\n",
        "data_dask.head()\n",
        "end1=time.time()\n",
        "dask_read_time_taken=end1-start1\n",
        "print(dask_read_time_taken)"
      ]
    },
    {
      "cell_type": "code",
      "source": [
        "# preview the data\n",
        "data_dask.head()"
      ],
      "metadata": {
        "colab": {
          "base_uri": "https://localhost:8080/",
          "height": 285
        },
        "id": "09nQnEvWxsF_",
        "outputId": "246672b1-feee-47af-c399-933ba58fa075"
      },
      "execution_count": 5,
      "outputs": [
        {
          "output_type": "execute_result",
          "data": {
            "text/plain": [
              "  Product       date  Sales Price Discount (%)  In-Store Promo  \\\n",
              "0    SKU1   2/5/2017  27750                 0%               0   \n",
              "1    SKU1  2/12/2017  29023                 0%               1   \n",
              "2    SKU1  2/19/2017  45630                17%               0   \n",
              "3    SKU1  2/26/2017  26789                 0%               1   \n",
              "4    SKU1   3/5/2017  41999                17%               0   \n",
              "\n",
              "   Catalogue Promo  Store End Promo  Google_Mobility  Covid_Flag  V_DAY  \\\n",
              "0                0                0              0.0           0      0   \n",
              "1                0                1              0.0           0      1   \n",
              "2                0                0              0.0           0      0   \n",
              "3                0                1              0.0           0      0   \n",
              "4                0                0              0.0           0      0   \n",
              "\n",
              "   EASTER  CHRISTMAS  \n",
              "0       0          0  \n",
              "1       0          0  \n",
              "2       0          0  \n",
              "3       0          0  \n",
              "4       0          0  "
            ],
            "text/html": [
              "\n",
              "  <div id=\"df-97dce12d-69f0-441d-bd8c-ea475a92d2fa\">\n",
              "    <div class=\"colab-df-container\">\n",
              "      <div>\n",
              "<style scoped>\n",
              "    .dataframe tbody tr th:only-of-type {\n",
              "        vertical-align: middle;\n",
              "    }\n",
              "\n",
              "    .dataframe tbody tr th {\n",
              "        vertical-align: top;\n",
              "    }\n",
              "\n",
              "    .dataframe thead th {\n",
              "        text-align: right;\n",
              "    }\n",
              "</style>\n",
              "<table border=\"1\" class=\"dataframe\">\n",
              "  <thead>\n",
              "    <tr style=\"text-align: right;\">\n",
              "      <th></th>\n",
              "      <th>Product</th>\n",
              "      <th>date</th>\n",
              "      <th>Sales</th>\n",
              "      <th>Price Discount (%)</th>\n",
              "      <th>In-Store Promo</th>\n",
              "      <th>Catalogue Promo</th>\n",
              "      <th>Store End Promo</th>\n",
              "      <th>Google_Mobility</th>\n",
              "      <th>Covid_Flag</th>\n",
              "      <th>V_DAY</th>\n",
              "      <th>EASTER</th>\n",
              "      <th>CHRISTMAS</th>\n",
              "    </tr>\n",
              "  </thead>\n",
              "  <tbody>\n",
              "    <tr>\n",
              "      <th>0</th>\n",
              "      <td>SKU1</td>\n",
              "      <td>2/5/2017</td>\n",
              "      <td>27750</td>\n",
              "      <td>0%</td>\n",
              "      <td>0</td>\n",
              "      <td>0</td>\n",
              "      <td>0</td>\n",
              "      <td>0.0</td>\n",
              "      <td>0</td>\n",
              "      <td>0</td>\n",
              "      <td>0</td>\n",
              "      <td>0</td>\n",
              "    </tr>\n",
              "    <tr>\n",
              "      <th>1</th>\n",
              "      <td>SKU1</td>\n",
              "      <td>2/12/2017</td>\n",
              "      <td>29023</td>\n",
              "      <td>0%</td>\n",
              "      <td>1</td>\n",
              "      <td>0</td>\n",
              "      <td>1</td>\n",
              "      <td>0.0</td>\n",
              "      <td>0</td>\n",
              "      <td>1</td>\n",
              "      <td>0</td>\n",
              "      <td>0</td>\n",
              "    </tr>\n",
              "    <tr>\n",
              "      <th>2</th>\n",
              "      <td>SKU1</td>\n",
              "      <td>2/19/2017</td>\n",
              "      <td>45630</td>\n",
              "      <td>17%</td>\n",
              "      <td>0</td>\n",
              "      <td>0</td>\n",
              "      <td>0</td>\n",
              "      <td>0.0</td>\n",
              "      <td>0</td>\n",
              "      <td>0</td>\n",
              "      <td>0</td>\n",
              "      <td>0</td>\n",
              "    </tr>\n",
              "    <tr>\n",
              "      <th>3</th>\n",
              "      <td>SKU1</td>\n",
              "      <td>2/26/2017</td>\n",
              "      <td>26789</td>\n",
              "      <td>0%</td>\n",
              "      <td>1</td>\n",
              "      <td>0</td>\n",
              "      <td>1</td>\n",
              "      <td>0.0</td>\n",
              "      <td>0</td>\n",
              "      <td>0</td>\n",
              "      <td>0</td>\n",
              "      <td>0</td>\n",
              "    </tr>\n",
              "    <tr>\n",
              "      <th>4</th>\n",
              "      <td>SKU1</td>\n",
              "      <td>3/5/2017</td>\n",
              "      <td>41999</td>\n",
              "      <td>17%</td>\n",
              "      <td>0</td>\n",
              "      <td>0</td>\n",
              "      <td>0</td>\n",
              "      <td>0.0</td>\n",
              "      <td>0</td>\n",
              "      <td>0</td>\n",
              "      <td>0</td>\n",
              "      <td>0</td>\n",
              "    </tr>\n",
              "  </tbody>\n",
              "</table>\n",
              "</div>\n",
              "      <button class=\"colab-df-convert\" onclick=\"convertToInteractive('df-97dce12d-69f0-441d-bd8c-ea475a92d2fa')\"\n",
              "              title=\"Convert this dataframe to an interactive table.\"\n",
              "              style=\"display:none;\">\n",
              "        \n",
              "  <svg xmlns=\"http://www.w3.org/2000/svg\" height=\"24px\"viewBox=\"0 0 24 24\"\n",
              "       width=\"24px\">\n",
              "    <path d=\"M0 0h24v24H0V0z\" fill=\"none\"/>\n",
              "    <path d=\"M18.56 5.44l.94 2.06.94-2.06 2.06-.94-2.06-.94-.94-2.06-.94 2.06-2.06.94zm-11 1L8.5 8.5l.94-2.06 2.06-.94-2.06-.94L8.5 2.5l-.94 2.06-2.06.94zm10 10l.94 2.06.94-2.06 2.06-.94-2.06-.94-.94-2.06-.94 2.06-2.06.94z\"/><path d=\"M17.41 7.96l-1.37-1.37c-.4-.4-.92-.59-1.43-.59-.52 0-1.04.2-1.43.59L10.3 9.45l-7.72 7.72c-.78.78-.78 2.05 0 2.83L4 21.41c.39.39.9.59 1.41.59.51 0 1.02-.2 1.41-.59l7.78-7.78 2.81-2.81c.8-.78.8-2.07 0-2.86zM5.41 20L4 18.59l7.72-7.72 1.47 1.35L5.41 20z\"/>\n",
              "  </svg>\n",
              "      </button>\n",
              "      \n",
              "  <style>\n",
              "    .colab-df-container {\n",
              "      display:flex;\n",
              "      flex-wrap:wrap;\n",
              "      gap: 12px;\n",
              "    }\n",
              "\n",
              "    .colab-df-convert {\n",
              "      background-color: #E8F0FE;\n",
              "      border: none;\n",
              "      border-radius: 50%;\n",
              "      cursor: pointer;\n",
              "      display: none;\n",
              "      fill: #1967D2;\n",
              "      height: 32px;\n",
              "      padding: 0 0 0 0;\n",
              "      width: 32px;\n",
              "    }\n",
              "\n",
              "    .colab-df-convert:hover {\n",
              "      background-color: #E2EBFA;\n",
              "      box-shadow: 0px 1px 2px rgba(60, 64, 67, 0.3), 0px 1px 3px 1px rgba(60, 64, 67, 0.15);\n",
              "      fill: #174EA6;\n",
              "    }\n",
              "\n",
              "    [theme=dark] .colab-df-convert {\n",
              "      background-color: #3B4455;\n",
              "      fill: #D2E3FC;\n",
              "    }\n",
              "\n",
              "    [theme=dark] .colab-df-convert:hover {\n",
              "      background-color: #434B5C;\n",
              "      box-shadow: 0px 1px 3px 1px rgba(0, 0, 0, 0.15);\n",
              "      filter: drop-shadow(0px 1px 2px rgba(0, 0, 0, 0.3));\n",
              "      fill: #FFFFFF;\n",
              "    }\n",
              "  </style>\n",
              "\n",
              "      <script>\n",
              "        const buttonEl =\n",
              "          document.querySelector('#df-97dce12d-69f0-441d-bd8c-ea475a92d2fa button.colab-df-convert');\n",
              "        buttonEl.style.display =\n",
              "          google.colab.kernel.accessAllowed ? 'block' : 'none';\n",
              "\n",
              "        async function convertToInteractive(key) {\n",
              "          const element = document.querySelector('#df-97dce12d-69f0-441d-bd8c-ea475a92d2fa');\n",
              "          const dataTable =\n",
              "            await google.colab.kernel.invokeFunction('convertToInteractive',\n",
              "                                                     [key], {});\n",
              "          if (!dataTable) return;\n",
              "\n",
              "          const docLinkHtml = 'Like what you see? Visit the ' +\n",
              "            '<a target=\"_blank\" href=https://colab.research.google.com/notebooks/data_table.ipynb>data table notebook</a>'\n",
              "            + ' to learn more about interactive tables.';\n",
              "          element.innerHTML = '';\n",
              "          dataTable['output_type'] = 'display_data';\n",
              "          await google.colab.output.renderOutput(dataTable, element);\n",
              "          const docLink = document.createElement('div');\n",
              "          docLink.innerHTML = docLinkHtml;\n",
              "          element.appendChild(docLink);\n",
              "        }\n",
              "      </script>\n",
              "    </div>\n",
              "  </div>\n",
              "  "
            ]
          },
          "metadata": {},
          "execution_count": 5
        }
      ]
    },
    {
      "cell_type": "code",
      "source": [
        "# using dask to calculate the mean\n",
        "%%time\n",
        "data_dask['Sales'].mean()"
      ],
      "metadata": {
        "colab": {
          "base_uri": "https://localhost:8080/"
        },
        "id": "zP5rMEXRx-Qw",
        "outputId": "412f4fc9-5f65-4725-b7c5-f932c0c28f71"
      },
      "execution_count": 6,
      "outputs": [
        {
          "output_type": "stream",
          "name": "stdout",
          "text": [
            "CPU times: user 9.18 ms, sys: 573 µs, total: 9.75 ms\n",
            "Wall time: 16.2 ms\n"
          ]
        },
        {
          "output_type": "execute_result",
          "data": {
            "text/plain": [
              "dd.Scalar<series-..., dtype=float64>"
            ]
          },
          "metadata": {},
          "execution_count": 6
        }
      ]
    },
    {
      "cell_type": "code",
      "source": [
        "# using dask to calculate the std\n",
        "%%time\n",
        "data_dask['Sales'].std()"
      ],
      "metadata": {
        "colab": {
          "base_uri": "https://localhost:8080/"
        },
        "id": "_xP0v0KIygUM",
        "outputId": "92ac5ae8-a038-4bce-a633-a15b2162df39"
      },
      "execution_count": 7,
      "outputs": [
        {
          "output_type": "stream",
          "name": "stdout",
          "text": [
            "CPU times: user 8.34 ms, sys: 0 ns, total: 8.34 ms\n",
            "Wall time: 9.32 ms\n"
          ]
        },
        {
          "output_type": "execute_result",
          "data": {
            "text/plain": [
              "dd.Scalar<series-..., dtype=float64>"
            ]
          },
          "metadata": {},
          "execution_count": 7
        }
      ]
    },
    {
      "cell_type": "code",
      "source": [
        "# using dask to groupby products\n",
        "%%time\n",
        "data_dask.groupby('Product') "
      ],
      "metadata": {
        "colab": {
          "base_uri": "https://localhost:8080/"
        },
        "id": "lXS8bnNYx-8R",
        "outputId": "196d6d0f-f320-4c03-c428-6ca76b2bcc1e"
      },
      "execution_count": 8,
      "outputs": [
        {
          "output_type": "stream",
          "name": "stdout",
          "text": [
            "CPU times: user 0 ns, sys: 356 µs, total: 356 µs\n",
            "Wall time: 365 µs\n"
          ]
        },
        {
          "output_type": "execute_result",
          "data": {
            "text/plain": [
              "<dask.dataframe.groupby.DataFrameGroupBy at 0x7feaf44c0370>"
            ]
          },
          "metadata": {},
          "execution_count": 8
        }
      ]
    },
    {
      "cell_type": "code",
      "source": [
        "#using dask with one worker node\n",
        "from dask.distributed import LocalCluster,Client\n",
        "# create a cluster first\n",
        "cluster=LocalCluster(n_workers=1)\n",
        "# create a client\n",
        "client=Client(cluster)\n"
      ],
      "metadata": {
        "colab": {
          "base_uri": "https://localhost:8080/"
        },
        "id": "hgJMqqjHlQPA",
        "outputId": "ca10b7fb-1ce5-440b-b7c0-d8bced1f9670"
      },
      "execution_count": 9,
      "outputs": [
        {
          "output_type": "stream",
          "name": "stderr",
          "text": [
            "INFO:distributed.http.proxy:To route to workers diagnostics web server please install jupyter-server-proxy: python -m pip install jupyter-server-proxy\n",
            "INFO:distributed.scheduler:State start\n",
            "INFO:distributed.scheduler:  Scheduler at:     tcp://127.0.0.1:43959\n",
            "INFO:distributed.scheduler:  dashboard at:            127.0.0.1:8787\n",
            "INFO:distributed.nanny:        Start Nanny at: 'tcp://127.0.0.1:34035'\n",
            "INFO:distributed.scheduler:Register worker <WorkerState 'tcp://127.0.0.1:46529', name: 0, status: init, memory: 0, processing: 0>\n",
            "INFO:distributed.scheduler:Starting worker compute stream, tcp://127.0.0.1:46529\n",
            "INFO:distributed.core:Starting established connection to tcp://127.0.0.1:55496\n",
            "INFO:distributed.scheduler:Receive client connection: Client-7183e739-cba6-11ed-80b0-0242ac1c000c\n",
            "INFO:distributed.core:Starting established connection to tcp://127.0.0.1:55504\n"
          ]
        }
      ]
    },
    {
      "cell_type": "code",
      "source": [
        "# read the file using one worker node\n",
        "start3=time.time()\n",
        "data_dask1=dd.read_csv('/content/forecasting_case_study.xlsx - Sheet1.csv',dtype={'Google_Mobility':'float64'})\n",
        "end3=time.time()\n",
        "dask_worker_one = end3 - start3\n",
        "print(dask_worker_one)"
      ],
      "metadata": {
        "colab": {
          "base_uri": "https://localhost:8080/"
        },
        "id": "ICIW4bbImGmy",
        "outputId": "af5c2cae-c19c-45cd-ef74-477dfc7a3da1"
      },
      "execution_count": 10,
      "outputs": [
        {
          "output_type": "stream",
          "name": "stdout",
          "text": [
            "0.009755849838256836\n"
          ]
        }
      ]
    },
    {
      "cell_type": "code",
      "source": [
        "# previewing the data with one worker node\n",
        "start3=time.time()\n",
        "data_dask1.head()\n",
        "end3=time.time()\n",
        "dask_worker_one = end3 - start3\n",
        "print(dask_worker_one)"
      ],
      "metadata": {
        "colab": {
          "base_uri": "https://localhost:8080/"
        },
        "id": "kMTbV-DEy03J",
        "outputId": "44f3df76-9f1d-4613-aca6-88ad7cad505b"
      },
      "execution_count": 11,
      "outputs": [
        {
          "output_type": "stream",
          "name": "stdout",
          "text": [
            "0.4482564926147461\n"
          ]
        }
      ]
    },
    {
      "cell_type": "code",
      "source": [
        "# finding the mean using one dask worker node\n",
        "%%time\n",
        "data_dask1['Sales'].mean()"
      ],
      "metadata": {
        "colab": {
          "base_uri": "https://localhost:8080/"
        },
        "id": "XSV-RP88y1JR",
        "outputId": "4e390281-b074-4dfd-9c39-fb96b4c95d04"
      },
      "execution_count": 12,
      "outputs": [
        {
          "output_type": "stream",
          "name": "stdout",
          "text": [
            "CPU times: user 5.91 ms, sys: 0 ns, total: 5.91 ms\n",
            "Wall time: 8.21 ms\n"
          ]
        },
        {
          "output_type": "execute_result",
          "data": {
            "text/plain": [
              "dd.Scalar<series-..., dtype=float64>"
            ]
          },
          "metadata": {},
          "execution_count": 12
        }
      ]
    },
    {
      "cell_type": "code",
      "source": [
        "# finding the standard deviation using one dask worker node\n",
        "%%time\n",
        "data_dask1['Sales'].std()"
      ],
      "metadata": {
        "colab": {
          "base_uri": "https://localhost:8080/"
        },
        "id": "8T-nFqsby1ab",
        "outputId": "a6cfcf29-792a-4713-b109-80fe39d86842"
      },
      "execution_count": 14,
      "outputs": [
        {
          "output_type": "stream",
          "name": "stdout",
          "text": [
            "CPU times: user 9.75 ms, sys: 0 ns, total: 9.75 ms\n",
            "Wall time: 15 ms\n"
          ]
        },
        {
          "output_type": "execute_result",
          "data": {
            "text/plain": [
              "dd.Scalar<series-..., dtype=float64>"
            ]
          },
          "metadata": {},
          "execution_count": 14
        }
      ]
    },
    {
      "cell_type": "code",
      "source": [
        "# grouping the data using one dask worker node\n",
        "%%time\n",
        "data_dask1.groupby('Product')"
      ],
      "metadata": {
        "colab": {
          "base_uri": "https://localhost:8080/"
        },
        "id": "tGmtIaa0y10C",
        "outputId": "ba7b6000-2b4d-4c94-ae77-36d1900d0115"
      },
      "execution_count": 15,
      "outputs": [
        {
          "output_type": "stream",
          "name": "stdout",
          "text": [
            "CPU times: user 7.67 ms, sys: 0 ns, total: 7.67 ms\n",
            "Wall time: 9.28 ms\n"
          ]
        },
        {
          "output_type": "execute_result",
          "data": {
            "text/plain": [
              "<dask.dataframe.groupby.DataFrameGroupBy at 0x7feaf0972cd0>"
            ]
          },
          "metadata": {},
          "execution_count": 15
        }
      ]
    },
    {
      "cell_type": "code",
      "source": [
        "# shut down the cluster\n",
        "client.shutdown()\n",
        "cluster.close()"
      ],
      "metadata": {
        "colab": {
          "base_uri": "https://localhost:8080/"
        },
        "id": "xx-jP59JnWmZ",
        "outputId": "42ebcf67-d97d-43b9-d9bc-c8640bae628a"
      },
      "execution_count": 16,
      "outputs": [
        {
          "output_type": "stream",
          "name": "stderr",
          "text": [
            "INFO:distributed.nanny:Closing Nanny at 'tcp://127.0.0.1:34035'. Reason: nanny-close\n",
            "INFO:distributed.nanny:Nanny asking worker to close. Reason: nanny-close\n",
            "INFO:distributed.core:Received 'close-stream' from tcp://127.0.0.1:55496; closing.\n",
            "INFO:distributed.scheduler:Remove worker <WorkerState 'tcp://127.0.0.1:46529', name: 0, status: closing, memory: 0, processing: 0>\n",
            "INFO:distributed.core:Removing comms to tcp://127.0.0.1:46529\n",
            "INFO:distributed.scheduler:Lost all workers\n",
            "INFO:distributed.scheduler:Scheduler closing...\n",
            "INFO:distributed.scheduler:Scheduler closing all comms\n"
          ]
        }
      ]
    },
    {
      "cell_type": "code",
      "source": [
        "# creating a cluster two worker nodes\n",
        "cluster=LocalCluster(n_workers=2)\n",
        "client = Client(cluster)"
      ],
      "metadata": {
        "colab": {
          "base_uri": "https://localhost:8080/"
        },
        "id": "DtNDIhAcntrL",
        "outputId": "af104843-9f0d-4565-bec3-79ec72853a2d"
      },
      "execution_count": 17,
      "outputs": [
        {
          "output_type": "stream",
          "name": "stderr",
          "text": [
            "INFO:distributed.scheduler:State start\n",
            "INFO:distributed.scheduler:  Scheduler at:     tcp://127.0.0.1:42523\n",
            "INFO:distributed.scheduler:  dashboard at:            127.0.0.1:8787\n",
            "INFO:distributed.nanny:        Start Nanny at: 'tcp://127.0.0.1:42259'\n",
            "INFO:distributed.nanny:        Start Nanny at: 'tcp://127.0.0.1:34847'\n",
            "INFO:distributed.scheduler:Register worker <WorkerState 'tcp://127.0.0.1:41473', name: 1, status: init, memory: 0, processing: 0>\n",
            "INFO:distributed.scheduler:Starting worker compute stream, tcp://127.0.0.1:41473\n",
            "INFO:distributed.core:Starting established connection to tcp://127.0.0.1:36618\n",
            "INFO:distributed.scheduler:Register worker <WorkerState 'tcp://127.0.0.1:39615', name: 0, status: init, memory: 0, processing: 0>\n",
            "INFO:distributed.scheduler:Starting worker compute stream, tcp://127.0.0.1:39615\n",
            "INFO:distributed.core:Starting established connection to tcp://127.0.0.1:36622\n",
            "INFO:distributed.scheduler:Receive client connection: Client-a537a078-cba6-11ed-80b0-0242ac1c000c\n",
            "INFO:distributed.core:Starting established connection to tcp://127.0.0.1:36634\n"
          ]
        }
      ]
    },
    {
      "cell_type": "code",
      "source": [
        "# reading file using two worker nodes\n",
        "start4=time.time()\n",
        "data_dask2=dd.read_csv('/content/forecasting_case_study.xlsx - Sheet1.csv',dtype={'Google_Mobility':'float64'})\n",
        "end4=time.time()\n",
        "dask_worker_2=end4-start4\n",
        "print(dask_worker_2)"
      ],
      "metadata": {
        "colab": {
          "base_uri": "https://localhost:8080/"
        },
        "id": "pGwGxtP6oUqx",
        "outputId": "c3bf2f87-a2a7-4114-b419-d2f2899b677a"
      },
      "execution_count": 18,
      "outputs": [
        {
          "output_type": "stream",
          "name": "stdout",
          "text": [
            "0.014813423156738281\n"
          ]
        }
      ]
    },
    {
      "cell_type": "code",
      "source": [
        "# previewing the data using two worker nodes\n",
        "%%time\n",
        "data_dask2.head()"
      ],
      "metadata": {
        "colab": {
          "base_uri": "https://localhost:8080/",
          "height": 320
        },
        "id": "cpptYxqJ0MkP",
        "outputId": "9560c746-1987-4687-9a98-c308fee3c1e8"
      },
      "execution_count": 19,
      "outputs": [
        {
          "output_type": "stream",
          "name": "stdout",
          "text": [
            "CPU times: user 83.7 ms, sys: 11.3 ms, total: 95 ms\n",
            "Wall time: 749 ms\n"
          ]
        },
        {
          "output_type": "execute_result",
          "data": {
            "text/plain": [
              "  Product       date  Sales Price Discount (%)  In-Store Promo  \\\n",
              "0    SKU1   2/5/2017  27750                 0%               0   \n",
              "1    SKU1  2/12/2017  29023                 0%               1   \n",
              "2    SKU1  2/19/2017  45630                17%               0   \n",
              "3    SKU1  2/26/2017  26789                 0%               1   \n",
              "4    SKU1   3/5/2017  41999                17%               0   \n",
              "\n",
              "   Catalogue Promo  Store End Promo  Google_Mobility  Covid_Flag  V_DAY  \\\n",
              "0                0                0              0.0           0      0   \n",
              "1                0                1              0.0           0      1   \n",
              "2                0                0              0.0           0      0   \n",
              "3                0                1              0.0           0      0   \n",
              "4                0                0              0.0           0      0   \n",
              "\n",
              "   EASTER  CHRISTMAS  \n",
              "0       0          0  \n",
              "1       0          0  \n",
              "2       0          0  \n",
              "3       0          0  \n",
              "4       0          0  "
            ],
            "text/html": [
              "\n",
              "  <div id=\"df-f7b48fe8-ee91-4e9d-8d48-dc9883fee569\">\n",
              "    <div class=\"colab-df-container\">\n",
              "      <div>\n",
              "<style scoped>\n",
              "    .dataframe tbody tr th:only-of-type {\n",
              "        vertical-align: middle;\n",
              "    }\n",
              "\n",
              "    .dataframe tbody tr th {\n",
              "        vertical-align: top;\n",
              "    }\n",
              "\n",
              "    .dataframe thead th {\n",
              "        text-align: right;\n",
              "    }\n",
              "</style>\n",
              "<table border=\"1\" class=\"dataframe\">\n",
              "  <thead>\n",
              "    <tr style=\"text-align: right;\">\n",
              "      <th></th>\n",
              "      <th>Product</th>\n",
              "      <th>date</th>\n",
              "      <th>Sales</th>\n",
              "      <th>Price Discount (%)</th>\n",
              "      <th>In-Store Promo</th>\n",
              "      <th>Catalogue Promo</th>\n",
              "      <th>Store End Promo</th>\n",
              "      <th>Google_Mobility</th>\n",
              "      <th>Covid_Flag</th>\n",
              "      <th>V_DAY</th>\n",
              "      <th>EASTER</th>\n",
              "      <th>CHRISTMAS</th>\n",
              "    </tr>\n",
              "  </thead>\n",
              "  <tbody>\n",
              "    <tr>\n",
              "      <th>0</th>\n",
              "      <td>SKU1</td>\n",
              "      <td>2/5/2017</td>\n",
              "      <td>27750</td>\n",
              "      <td>0%</td>\n",
              "      <td>0</td>\n",
              "      <td>0</td>\n",
              "      <td>0</td>\n",
              "      <td>0.0</td>\n",
              "      <td>0</td>\n",
              "      <td>0</td>\n",
              "      <td>0</td>\n",
              "      <td>0</td>\n",
              "    </tr>\n",
              "    <tr>\n",
              "      <th>1</th>\n",
              "      <td>SKU1</td>\n",
              "      <td>2/12/2017</td>\n",
              "      <td>29023</td>\n",
              "      <td>0%</td>\n",
              "      <td>1</td>\n",
              "      <td>0</td>\n",
              "      <td>1</td>\n",
              "      <td>0.0</td>\n",
              "      <td>0</td>\n",
              "      <td>1</td>\n",
              "      <td>0</td>\n",
              "      <td>0</td>\n",
              "    </tr>\n",
              "    <tr>\n",
              "      <th>2</th>\n",
              "      <td>SKU1</td>\n",
              "      <td>2/19/2017</td>\n",
              "      <td>45630</td>\n",
              "      <td>17%</td>\n",
              "      <td>0</td>\n",
              "      <td>0</td>\n",
              "      <td>0</td>\n",
              "      <td>0.0</td>\n",
              "      <td>0</td>\n",
              "      <td>0</td>\n",
              "      <td>0</td>\n",
              "      <td>0</td>\n",
              "    </tr>\n",
              "    <tr>\n",
              "      <th>3</th>\n",
              "      <td>SKU1</td>\n",
              "      <td>2/26/2017</td>\n",
              "      <td>26789</td>\n",
              "      <td>0%</td>\n",
              "      <td>1</td>\n",
              "      <td>0</td>\n",
              "      <td>1</td>\n",
              "      <td>0.0</td>\n",
              "      <td>0</td>\n",
              "      <td>0</td>\n",
              "      <td>0</td>\n",
              "      <td>0</td>\n",
              "    </tr>\n",
              "    <tr>\n",
              "      <th>4</th>\n",
              "      <td>SKU1</td>\n",
              "      <td>3/5/2017</td>\n",
              "      <td>41999</td>\n",
              "      <td>17%</td>\n",
              "      <td>0</td>\n",
              "      <td>0</td>\n",
              "      <td>0</td>\n",
              "      <td>0.0</td>\n",
              "      <td>0</td>\n",
              "      <td>0</td>\n",
              "      <td>0</td>\n",
              "      <td>0</td>\n",
              "    </tr>\n",
              "  </tbody>\n",
              "</table>\n",
              "</div>\n",
              "      <button class=\"colab-df-convert\" onclick=\"convertToInteractive('df-f7b48fe8-ee91-4e9d-8d48-dc9883fee569')\"\n",
              "              title=\"Convert this dataframe to an interactive table.\"\n",
              "              style=\"display:none;\">\n",
              "        \n",
              "  <svg xmlns=\"http://www.w3.org/2000/svg\" height=\"24px\"viewBox=\"0 0 24 24\"\n",
              "       width=\"24px\">\n",
              "    <path d=\"M0 0h24v24H0V0z\" fill=\"none\"/>\n",
              "    <path d=\"M18.56 5.44l.94 2.06.94-2.06 2.06-.94-2.06-.94-.94-2.06-.94 2.06-2.06.94zm-11 1L8.5 8.5l.94-2.06 2.06-.94-2.06-.94L8.5 2.5l-.94 2.06-2.06.94zm10 10l.94 2.06.94-2.06 2.06-.94-2.06-.94-.94-2.06-.94 2.06-2.06.94z\"/><path d=\"M17.41 7.96l-1.37-1.37c-.4-.4-.92-.59-1.43-.59-.52 0-1.04.2-1.43.59L10.3 9.45l-7.72 7.72c-.78.78-.78 2.05 0 2.83L4 21.41c.39.39.9.59 1.41.59.51 0 1.02-.2 1.41-.59l7.78-7.78 2.81-2.81c.8-.78.8-2.07 0-2.86zM5.41 20L4 18.59l7.72-7.72 1.47 1.35L5.41 20z\"/>\n",
              "  </svg>\n",
              "      </button>\n",
              "      \n",
              "  <style>\n",
              "    .colab-df-container {\n",
              "      display:flex;\n",
              "      flex-wrap:wrap;\n",
              "      gap: 12px;\n",
              "    }\n",
              "\n",
              "    .colab-df-convert {\n",
              "      background-color: #E8F0FE;\n",
              "      border: none;\n",
              "      border-radius: 50%;\n",
              "      cursor: pointer;\n",
              "      display: none;\n",
              "      fill: #1967D2;\n",
              "      height: 32px;\n",
              "      padding: 0 0 0 0;\n",
              "      width: 32px;\n",
              "    }\n",
              "\n",
              "    .colab-df-convert:hover {\n",
              "      background-color: #E2EBFA;\n",
              "      box-shadow: 0px 1px 2px rgba(60, 64, 67, 0.3), 0px 1px 3px 1px rgba(60, 64, 67, 0.15);\n",
              "      fill: #174EA6;\n",
              "    }\n",
              "\n",
              "    [theme=dark] .colab-df-convert {\n",
              "      background-color: #3B4455;\n",
              "      fill: #D2E3FC;\n",
              "    }\n",
              "\n",
              "    [theme=dark] .colab-df-convert:hover {\n",
              "      background-color: #434B5C;\n",
              "      box-shadow: 0px 1px 3px 1px rgba(0, 0, 0, 0.15);\n",
              "      filter: drop-shadow(0px 1px 2px rgba(0, 0, 0, 0.3));\n",
              "      fill: #FFFFFF;\n",
              "    }\n",
              "  </style>\n",
              "\n",
              "      <script>\n",
              "        const buttonEl =\n",
              "          document.querySelector('#df-f7b48fe8-ee91-4e9d-8d48-dc9883fee569 button.colab-df-convert');\n",
              "        buttonEl.style.display =\n",
              "          google.colab.kernel.accessAllowed ? 'block' : 'none';\n",
              "\n",
              "        async function convertToInteractive(key) {\n",
              "          const element = document.querySelector('#df-f7b48fe8-ee91-4e9d-8d48-dc9883fee569');\n",
              "          const dataTable =\n",
              "            await google.colab.kernel.invokeFunction('convertToInteractive',\n",
              "                                                     [key], {});\n",
              "          if (!dataTable) return;\n",
              "\n",
              "          const docLinkHtml = 'Like what you see? Visit the ' +\n",
              "            '<a target=\"_blank\" href=https://colab.research.google.com/notebooks/data_table.ipynb>data table notebook</a>'\n",
              "            + ' to learn more about interactive tables.';\n",
              "          element.innerHTML = '';\n",
              "          dataTable['output_type'] = 'display_data';\n",
              "          await google.colab.output.renderOutput(dataTable, element);\n",
              "          const docLink = document.createElement('div');\n",
              "          docLink.innerHTML = docLinkHtml;\n",
              "          element.appendChild(docLink);\n",
              "        }\n",
              "      </script>\n",
              "    </div>\n",
              "  </div>\n",
              "  "
            ]
          },
          "metadata": {},
          "execution_count": 19
        }
      ]
    },
    {
      "cell_type": "code",
      "source": [
        "# calculating the mean using two worker nodes\n",
        "%%time\n",
        "data_dask2['Sales'].mean()"
      ],
      "metadata": {
        "colab": {
          "base_uri": "https://localhost:8080/"
        },
        "id": "fkbPgUUy0M07",
        "outputId": "41768ce9-6eca-4cab-d1a1-a73523b6f86a"
      },
      "execution_count": 20,
      "outputs": [
        {
          "output_type": "stream",
          "name": "stdout",
          "text": [
            "CPU times: user 8.67 ms, sys: 47 µs, total: 8.71 ms\n",
            "Wall time: 9.84 ms\n"
          ]
        },
        {
          "output_type": "execute_result",
          "data": {
            "text/plain": [
              "dd.Scalar<series-..., dtype=float64>"
            ]
          },
          "metadata": {},
          "execution_count": 20
        }
      ]
    },
    {
      "cell_type": "code",
      "source": [
        "# calculating the standard deviation using two worker nodes\n",
        "%%time\n",
        "data_dask2['Sales'].std()"
      ],
      "metadata": {
        "colab": {
          "base_uri": "https://localhost:8080/"
        },
        "id": "qNnMqsZP0NEO",
        "outputId": "8b12f6cc-3675-4dcd-aaea-af6a2526f098"
      },
      "execution_count": 21,
      "outputs": [
        {
          "output_type": "stream",
          "name": "stdout",
          "text": [
            "CPU times: user 9.58 ms, sys: 1.08 ms, total: 10.7 ms\n",
            "Wall time: 12.6 ms\n"
          ]
        },
        {
          "output_type": "execute_result",
          "data": {
            "text/plain": [
              "dd.Scalar<series-..., dtype=float64>"
            ]
          },
          "metadata": {},
          "execution_count": 21
        }
      ]
    },
    {
      "cell_type": "code",
      "source": [
        "# grouping using two worker nodes\n",
        "%%time\n",
        "data_dask2.groupby('Product')"
      ],
      "metadata": {
        "colab": {
          "base_uri": "https://localhost:8080/"
        },
        "id": "AKthptY-0NSp",
        "outputId": "9b595bca-3642-43e3-c3ed-c2de7952282a"
      },
      "execution_count": 22,
      "outputs": [
        {
          "output_type": "stream",
          "name": "stdout",
          "text": [
            "CPU times: user 435 µs, sys: 0 ns, total: 435 µs\n",
            "Wall time: 442 µs\n"
          ]
        },
        {
          "output_type": "execute_result",
          "data": {
            "text/plain": [
              "<dask.dataframe.groupby.DataFrameGroupBy at 0x7feaf2537160>"
            ]
          },
          "metadata": {},
          "execution_count": 22
        }
      ]
    },
    {
      "cell_type": "code",
      "source": [
        "# shutdown the dask client\n",
        "client.shutdown()\n",
        "cluster.close()"
      ],
      "metadata": {
        "colab": {
          "base_uri": "https://localhost:8080/"
        },
        "id": "JR97ADTBpG-C",
        "outputId": "07a73c87-aa2f-4a48-9ee0-ee75d5790050"
      },
      "execution_count": 23,
      "outputs": [
        {
          "output_type": "stream",
          "name": "stderr",
          "text": [
            "INFO:distributed.nanny:Closing Nanny at 'tcp://127.0.0.1:42259'. Reason: nanny-close\n",
            "INFO:distributed.nanny:Nanny asking worker to close. Reason: nanny-close\n",
            "INFO:distributed.nanny:Closing Nanny at 'tcp://127.0.0.1:34847'. Reason: nanny-close\n",
            "INFO:distributed.nanny:Nanny asking worker to close. Reason: nanny-close\n",
            "INFO:distributed.core:Received 'close-stream' from tcp://127.0.0.1:36622; closing.\n",
            "INFO:distributed.scheduler:Remove worker <WorkerState 'tcp://127.0.0.1:39615', name: 0, status: closing, memory: 0, processing: 0>\n",
            "INFO:distributed.core:Removing comms to tcp://127.0.0.1:39615\n",
            "INFO:distributed.core:Received 'close-stream' from tcp://127.0.0.1:36618; closing.\n",
            "INFO:distributed.scheduler:Remove worker <WorkerState 'tcp://127.0.0.1:41473', name: 1, status: closing, memory: 0, processing: 0>\n",
            "INFO:distributed.core:Removing comms to tcp://127.0.0.1:41473\n",
            "INFO:distributed.scheduler:Lost all workers\n",
            "INFO:distributed.scheduler:Scheduler closing...\n",
            "INFO:distributed.scheduler:Scheduler closing all comms\n"
          ]
        }
      ]
    },
    {
      "cell_type": "code",
      "source": [
        "# setting up four worker nodes\n",
        "cluster = LocalCluster(n_workers=4)\n",
        "client=Client(cluster)\n"
      ],
      "metadata": {
        "colab": {
          "base_uri": "https://localhost:8080/"
        },
        "id": "DRSnL0TXpXkP",
        "outputId": "cebaacd9-bafe-4993-f3e3-53e2829c2e87"
      },
      "execution_count": 24,
      "outputs": [
        {
          "output_type": "stream",
          "name": "stderr",
          "text": [
            "INFO:distributed.scheduler:State start\n",
            "INFO:distributed.scheduler:  Scheduler at:     tcp://127.0.0.1:40815\n",
            "INFO:distributed.scheduler:  dashboard at:            127.0.0.1:8787\n",
            "INFO:distributed.nanny:        Start Nanny at: 'tcp://127.0.0.1:40531'\n",
            "INFO:distributed.nanny:        Start Nanny at: 'tcp://127.0.0.1:38767'\n",
            "INFO:distributed.nanny:        Start Nanny at: 'tcp://127.0.0.1:43867'\n",
            "INFO:distributed.nanny:        Start Nanny at: 'tcp://127.0.0.1:37149'\n",
            "INFO:distributed.scheduler:Register worker <WorkerState 'tcp://127.0.0.1:37761', name: 0, status: init, memory: 0, processing: 0>\n",
            "INFO:distributed.scheduler:Starting worker compute stream, tcp://127.0.0.1:37761\n",
            "INFO:distributed.core:Starting established connection to tcp://127.0.0.1:40668\n",
            "INFO:distributed.scheduler:Register worker <WorkerState 'tcp://127.0.0.1:37833', name: 1, status: init, memory: 0, processing: 0>\n",
            "INFO:distributed.scheduler:Starting worker compute stream, tcp://127.0.0.1:37833\n",
            "INFO:distributed.core:Starting established connection to tcp://127.0.0.1:40686\n",
            "INFO:distributed.scheduler:Register worker <WorkerState 'tcp://127.0.0.1:38061', name: 3, status: init, memory: 0, processing: 0>\n",
            "INFO:distributed.scheduler:Starting worker compute stream, tcp://127.0.0.1:38061\n",
            "INFO:distributed.core:Starting established connection to tcp://127.0.0.1:40670\n",
            "INFO:distributed.scheduler:Register worker <WorkerState 'tcp://127.0.0.1:46675', name: 2, status: init, memory: 0, processing: 0>\n",
            "INFO:distributed.scheduler:Starting worker compute stream, tcp://127.0.0.1:46675\n",
            "INFO:distributed.core:Starting established connection to tcp://127.0.0.1:40698\n",
            "INFO:distributed.scheduler:Receive client connection: Client-bc6a97a9-cba6-11ed-80b0-0242ac1c000c\n",
            "INFO:distributed.core:Starting established connection to tcp://127.0.0.1:40702\n"
          ]
        }
      ]
    },
    {
      "cell_type": "code",
      "source": [
        "# reading the files with four worker nodes\n",
        "start5=time.time()\n",
        "data_dask4=dd.read_csv('/content/forecasting_case_study.xlsx - Sheet1.csv',dtype={'Google_Mobility':'float64'})\n",
        "end5=time.time()\n",
        "dask_workers_5=end5-start5\n",
        "print(dask_workers_5)"
      ],
      "metadata": {
        "colab": {
          "base_uri": "https://localhost:8080/"
        },
        "id": "qEj6g93EqXbO",
        "outputId": "8af8629f-5b81-4b5d-a357-a88dced45c02"
      },
      "execution_count": 25,
      "outputs": [
        {
          "output_type": "stream",
          "name": "stdout",
          "text": [
            "0.01620340347290039\n"
          ]
        }
      ]
    },
    {
      "cell_type": "code",
      "source": [
        "# previewing the data with four worker nodes\n",
        "%%time\n",
        "data_dask4.head()"
      ],
      "metadata": {
        "colab": {
          "base_uri": "https://localhost:8080/",
          "height": 320
        },
        "id": "ZI8AfcVS14Q-",
        "outputId": "40a6acc9-21e2-4fc9-fd87-3c51ed65776d"
      },
      "execution_count": 26,
      "outputs": [
        {
          "output_type": "stream",
          "name": "stdout",
          "text": [
            "CPU times: user 81.8 ms, sys: 9.87 ms, total: 91.7 ms\n",
            "Wall time: 505 ms\n"
          ]
        },
        {
          "output_type": "execute_result",
          "data": {
            "text/plain": [
              "  Product       date  Sales Price Discount (%)  In-Store Promo  \\\n",
              "0    SKU1   2/5/2017  27750                 0%               0   \n",
              "1    SKU1  2/12/2017  29023                 0%               1   \n",
              "2    SKU1  2/19/2017  45630                17%               0   \n",
              "3    SKU1  2/26/2017  26789                 0%               1   \n",
              "4    SKU1   3/5/2017  41999                17%               0   \n",
              "\n",
              "   Catalogue Promo  Store End Promo  Google_Mobility  Covid_Flag  V_DAY  \\\n",
              "0                0                0              0.0           0      0   \n",
              "1                0                1              0.0           0      1   \n",
              "2                0                0              0.0           0      0   \n",
              "3                0                1              0.0           0      0   \n",
              "4                0                0              0.0           0      0   \n",
              "\n",
              "   EASTER  CHRISTMAS  \n",
              "0       0          0  \n",
              "1       0          0  \n",
              "2       0          0  \n",
              "3       0          0  \n",
              "4       0          0  "
            ],
            "text/html": [
              "\n",
              "  <div id=\"df-a9080d85-483c-4200-9efb-7cdbf83052fd\">\n",
              "    <div class=\"colab-df-container\">\n",
              "      <div>\n",
              "<style scoped>\n",
              "    .dataframe tbody tr th:only-of-type {\n",
              "        vertical-align: middle;\n",
              "    }\n",
              "\n",
              "    .dataframe tbody tr th {\n",
              "        vertical-align: top;\n",
              "    }\n",
              "\n",
              "    .dataframe thead th {\n",
              "        text-align: right;\n",
              "    }\n",
              "</style>\n",
              "<table border=\"1\" class=\"dataframe\">\n",
              "  <thead>\n",
              "    <tr style=\"text-align: right;\">\n",
              "      <th></th>\n",
              "      <th>Product</th>\n",
              "      <th>date</th>\n",
              "      <th>Sales</th>\n",
              "      <th>Price Discount (%)</th>\n",
              "      <th>In-Store Promo</th>\n",
              "      <th>Catalogue Promo</th>\n",
              "      <th>Store End Promo</th>\n",
              "      <th>Google_Mobility</th>\n",
              "      <th>Covid_Flag</th>\n",
              "      <th>V_DAY</th>\n",
              "      <th>EASTER</th>\n",
              "      <th>CHRISTMAS</th>\n",
              "    </tr>\n",
              "  </thead>\n",
              "  <tbody>\n",
              "    <tr>\n",
              "      <th>0</th>\n",
              "      <td>SKU1</td>\n",
              "      <td>2/5/2017</td>\n",
              "      <td>27750</td>\n",
              "      <td>0%</td>\n",
              "      <td>0</td>\n",
              "      <td>0</td>\n",
              "      <td>0</td>\n",
              "      <td>0.0</td>\n",
              "      <td>0</td>\n",
              "      <td>0</td>\n",
              "      <td>0</td>\n",
              "      <td>0</td>\n",
              "    </tr>\n",
              "    <tr>\n",
              "      <th>1</th>\n",
              "      <td>SKU1</td>\n",
              "      <td>2/12/2017</td>\n",
              "      <td>29023</td>\n",
              "      <td>0%</td>\n",
              "      <td>1</td>\n",
              "      <td>0</td>\n",
              "      <td>1</td>\n",
              "      <td>0.0</td>\n",
              "      <td>0</td>\n",
              "      <td>1</td>\n",
              "      <td>0</td>\n",
              "      <td>0</td>\n",
              "    </tr>\n",
              "    <tr>\n",
              "      <th>2</th>\n",
              "      <td>SKU1</td>\n",
              "      <td>2/19/2017</td>\n",
              "      <td>45630</td>\n",
              "      <td>17%</td>\n",
              "      <td>0</td>\n",
              "      <td>0</td>\n",
              "      <td>0</td>\n",
              "      <td>0.0</td>\n",
              "      <td>0</td>\n",
              "      <td>0</td>\n",
              "      <td>0</td>\n",
              "      <td>0</td>\n",
              "    </tr>\n",
              "    <tr>\n",
              "      <th>3</th>\n",
              "      <td>SKU1</td>\n",
              "      <td>2/26/2017</td>\n",
              "      <td>26789</td>\n",
              "      <td>0%</td>\n",
              "      <td>1</td>\n",
              "      <td>0</td>\n",
              "      <td>1</td>\n",
              "      <td>0.0</td>\n",
              "      <td>0</td>\n",
              "      <td>0</td>\n",
              "      <td>0</td>\n",
              "      <td>0</td>\n",
              "    </tr>\n",
              "    <tr>\n",
              "      <th>4</th>\n",
              "      <td>SKU1</td>\n",
              "      <td>3/5/2017</td>\n",
              "      <td>41999</td>\n",
              "      <td>17%</td>\n",
              "      <td>0</td>\n",
              "      <td>0</td>\n",
              "      <td>0</td>\n",
              "      <td>0.0</td>\n",
              "      <td>0</td>\n",
              "      <td>0</td>\n",
              "      <td>0</td>\n",
              "      <td>0</td>\n",
              "    </tr>\n",
              "  </tbody>\n",
              "</table>\n",
              "</div>\n",
              "      <button class=\"colab-df-convert\" onclick=\"convertToInteractive('df-a9080d85-483c-4200-9efb-7cdbf83052fd')\"\n",
              "              title=\"Convert this dataframe to an interactive table.\"\n",
              "              style=\"display:none;\">\n",
              "        \n",
              "  <svg xmlns=\"http://www.w3.org/2000/svg\" height=\"24px\"viewBox=\"0 0 24 24\"\n",
              "       width=\"24px\">\n",
              "    <path d=\"M0 0h24v24H0V0z\" fill=\"none\"/>\n",
              "    <path d=\"M18.56 5.44l.94 2.06.94-2.06 2.06-.94-2.06-.94-.94-2.06-.94 2.06-2.06.94zm-11 1L8.5 8.5l.94-2.06 2.06-.94-2.06-.94L8.5 2.5l-.94 2.06-2.06.94zm10 10l.94 2.06.94-2.06 2.06-.94-2.06-.94-.94-2.06-.94 2.06-2.06.94z\"/><path d=\"M17.41 7.96l-1.37-1.37c-.4-.4-.92-.59-1.43-.59-.52 0-1.04.2-1.43.59L10.3 9.45l-7.72 7.72c-.78.78-.78 2.05 0 2.83L4 21.41c.39.39.9.59 1.41.59.51 0 1.02-.2 1.41-.59l7.78-7.78 2.81-2.81c.8-.78.8-2.07 0-2.86zM5.41 20L4 18.59l7.72-7.72 1.47 1.35L5.41 20z\"/>\n",
              "  </svg>\n",
              "      </button>\n",
              "      \n",
              "  <style>\n",
              "    .colab-df-container {\n",
              "      display:flex;\n",
              "      flex-wrap:wrap;\n",
              "      gap: 12px;\n",
              "    }\n",
              "\n",
              "    .colab-df-convert {\n",
              "      background-color: #E8F0FE;\n",
              "      border: none;\n",
              "      border-radius: 50%;\n",
              "      cursor: pointer;\n",
              "      display: none;\n",
              "      fill: #1967D2;\n",
              "      height: 32px;\n",
              "      padding: 0 0 0 0;\n",
              "      width: 32px;\n",
              "    }\n",
              "\n",
              "    .colab-df-convert:hover {\n",
              "      background-color: #E2EBFA;\n",
              "      box-shadow: 0px 1px 2px rgba(60, 64, 67, 0.3), 0px 1px 3px 1px rgba(60, 64, 67, 0.15);\n",
              "      fill: #174EA6;\n",
              "    }\n",
              "\n",
              "    [theme=dark] .colab-df-convert {\n",
              "      background-color: #3B4455;\n",
              "      fill: #D2E3FC;\n",
              "    }\n",
              "\n",
              "    [theme=dark] .colab-df-convert:hover {\n",
              "      background-color: #434B5C;\n",
              "      box-shadow: 0px 1px 3px 1px rgba(0, 0, 0, 0.15);\n",
              "      filter: drop-shadow(0px 1px 2px rgba(0, 0, 0, 0.3));\n",
              "      fill: #FFFFFF;\n",
              "    }\n",
              "  </style>\n",
              "\n",
              "      <script>\n",
              "        const buttonEl =\n",
              "          document.querySelector('#df-a9080d85-483c-4200-9efb-7cdbf83052fd button.colab-df-convert');\n",
              "        buttonEl.style.display =\n",
              "          google.colab.kernel.accessAllowed ? 'block' : 'none';\n",
              "\n",
              "        async function convertToInteractive(key) {\n",
              "          const element = document.querySelector('#df-a9080d85-483c-4200-9efb-7cdbf83052fd');\n",
              "          const dataTable =\n",
              "            await google.colab.kernel.invokeFunction('convertToInteractive',\n",
              "                                                     [key], {});\n",
              "          if (!dataTable) return;\n",
              "\n",
              "          const docLinkHtml = 'Like what you see? Visit the ' +\n",
              "            '<a target=\"_blank\" href=https://colab.research.google.com/notebooks/data_table.ipynb>data table notebook</a>'\n",
              "            + ' to learn more about interactive tables.';\n",
              "          element.innerHTML = '';\n",
              "          dataTable['output_type'] = 'display_data';\n",
              "          await google.colab.output.renderOutput(dataTable, element);\n",
              "          const docLink = document.createElement('div');\n",
              "          docLink.innerHTML = docLinkHtml;\n",
              "          element.appendChild(docLink);\n",
              "        }\n",
              "      </script>\n",
              "    </div>\n",
              "  </div>\n",
              "  "
            ]
          },
          "metadata": {},
          "execution_count": 26
        }
      ]
    },
    {
      "cell_type": "code",
      "source": [
        "# calculating the mean using four worker nodes\n",
        "%%time\n",
        "data_dask4['Sales'].mean()"
      ],
      "metadata": {
        "colab": {
          "base_uri": "https://localhost:8080/"
        },
        "id": "Wz09z_aX14fj",
        "outputId": "8003d2c2-493f-4ec1-e76e-07099d98d52d"
      },
      "execution_count": 27,
      "outputs": [
        {
          "output_type": "stream",
          "name": "stdout",
          "text": [
            "CPU times: user 10.3 ms, sys: 713 µs, total: 11 ms\n",
            "Wall time: 19.5 ms\n"
          ]
        },
        {
          "output_type": "execute_result",
          "data": {
            "text/plain": [
              "dd.Scalar<series-..., dtype=float64>"
            ]
          },
          "metadata": {},
          "execution_count": 27
        }
      ]
    },
    {
      "cell_type": "code",
      "source": [
        "# calculating the standard deviation using four worker nodes\n",
        "%%time\n",
        "data_dask4['Sales'].std()"
      ],
      "metadata": {
        "colab": {
          "base_uri": "https://localhost:8080/"
        },
        "id": "k7wIZh2l14j3",
        "outputId": "38167bc9-da72-4e89-d345-416fb611e8ed"
      },
      "execution_count": 28,
      "outputs": [
        {
          "output_type": "stream",
          "name": "stdout",
          "text": [
            "CPU times: user 10.3 ms, sys: 784 µs, total: 11.1 ms\n",
            "Wall time: 17.8 ms\n"
          ]
        },
        {
          "output_type": "execute_result",
          "data": {
            "text/plain": [
              "dd.Scalar<series-..., dtype=float64>"
            ]
          },
          "metadata": {},
          "execution_count": 28
        }
      ]
    },
    {
      "cell_type": "code",
      "source": [
        "# using four worker nodes for a groupby function\n",
        "%%time\n",
        "data_dask4.groupby('Product')"
      ],
      "metadata": {
        "colab": {
          "base_uri": "https://localhost:8080/"
        },
        "id": "YG8GOwzS14ow",
        "outputId": "8008033d-c000-4d8a-a2d6-b9fcd571d495"
      },
      "execution_count": 29,
      "outputs": [
        {
          "output_type": "stream",
          "name": "stdout",
          "text": [
            "CPU times: user 282 µs, sys: 43 µs, total: 325 µs\n",
            "Wall time: 329 µs\n"
          ]
        },
        {
          "output_type": "execute_result",
          "data": {
            "text/plain": [
              "<dask.dataframe.groupby.DataFrameGroupBy at 0x7feadf914910>"
            ]
          },
          "metadata": {},
          "execution_count": 29
        }
      ]
    },
    {
      "cell_type": "code",
      "source": [
        "# shutdown cluster\n",
        "client.shutdown()\n",
        "cluster.close()"
      ],
      "metadata": {
        "colab": {
          "base_uri": "https://localhost:8080/"
        },
        "id": "_b42cut7rv8I",
        "outputId": "e6d67197-aca6-4581-d01f-ce23e97e4a3b"
      },
      "execution_count": 30,
      "outputs": [
        {
          "output_type": "stream",
          "name": "stderr",
          "text": [
            "INFO:distributed.nanny:Closing Nanny at 'tcp://127.0.0.1:40531'. Reason: nanny-close\n",
            "INFO:distributed.nanny:Nanny asking worker to close. Reason: nanny-close\n",
            "INFO:distributed.nanny:Closing Nanny at 'tcp://127.0.0.1:38767'. Reason: nanny-close\n",
            "INFO:distributed.nanny:Nanny asking worker to close. Reason: nanny-close\n",
            "INFO:distributed.nanny:Closing Nanny at 'tcp://127.0.0.1:43867'. Reason: nanny-close\n",
            "INFO:distributed.nanny:Nanny asking worker to close. Reason: nanny-close\n",
            "INFO:distributed.nanny:Closing Nanny at 'tcp://127.0.0.1:37149'. Reason: nanny-close\n",
            "INFO:distributed.nanny:Nanny asking worker to close. Reason: nanny-close\n",
            "INFO:distributed.core:Received 'close-stream' from tcp://127.0.0.1:40668; closing.\n",
            "INFO:distributed.core:Received 'close-stream' from tcp://127.0.0.1:40686; closing.\n",
            "INFO:distributed.core:Received 'close-stream' from tcp://127.0.0.1:40698; closing.\n",
            "INFO:distributed.scheduler:Remove worker <WorkerState 'tcp://127.0.0.1:37761', name: 0, status: closing, memory: 0, processing: 0>\n",
            "INFO:distributed.core:Removing comms to tcp://127.0.0.1:37761\n",
            "INFO:distributed.scheduler:Remove worker <WorkerState 'tcp://127.0.0.1:37833', name: 1, status: closing, memory: 0, processing: 0>\n",
            "INFO:distributed.core:Removing comms to tcp://127.0.0.1:37833\n",
            "INFO:distributed.scheduler:Remove worker <WorkerState 'tcp://127.0.0.1:46675', name: 2, status: closing, memory: 0, processing: 0>\n",
            "INFO:distributed.core:Removing comms to tcp://127.0.0.1:46675\n",
            "INFO:distributed.core:Received 'close-stream' from tcp://127.0.0.1:40670; closing.\n",
            "INFO:distributed.scheduler:Remove worker <WorkerState 'tcp://127.0.0.1:38061', name: 3, status: closing, memory: 0, processing: 0>\n",
            "INFO:distributed.core:Removing comms to tcp://127.0.0.1:38061\n",
            "INFO:distributed.scheduler:Lost all workers\n",
            "INFO:distributed.scheduler:Scheduler closing...\n",
            "INFO:distributed.scheduler:Scheduler closing all comms\n"
          ]
        }
      ]
    },
    {
      "cell_type": "markdown",
      "source": [
        "### Using Pandas"
      ],
      "metadata": {
        "id": "GQqdVxipjoSd"
      }
    },
    {
      "cell_type": "code",
      "execution_count": 36,
      "metadata": {
        "id": "mZLnFkyhzH-q"
      },
      "outputs": [],
      "source": [
        "# import the pandas module\n",
        "import pandas as pd\n"
      ]
    },
    {
      "cell_type": "code",
      "execution_count": 37,
      "metadata": {
        "colab": {
          "base_uri": "https://localhost:8080/"
        },
        "id": "9Tm6JsWm2vn9",
        "outputId": "ccf24044-8a57-40fa-abbf-92d79edfc5f4"
      },
      "outputs": [
        {
          "output_type": "stream",
          "name": "stdout",
          "text": [
            "0.010542154312133789\n"
          ]
        }
      ],
      "source": [
        "# read the file using pandas\n",
        "start6=time.time()\n",
        "pandas_data=pd.read_csv('/content/forecasting_case_study.xlsx - Sheet1.csv')\n",
        "end6=time.time()\n",
        "pandas_time=end6-start6\n",
        "# determining the code taken to read the file\n",
        "print(pandas_time)"
      ]
    },
    {
      "cell_type": "code",
      "execution_count": 38,
      "metadata": {
        "colab": {
          "base_uri": "https://localhost:8080/",
          "height": 320
        },
        "id": "EBiPdx052_9B",
        "outputId": "a186cee9-ec3e-493c-cf54-cf30163b2d3f"
      },
      "outputs": [
        {
          "output_type": "stream",
          "name": "stdout",
          "text": [
            "CPU times: user 276 µs, sys: 0 ns, total: 276 µs\n",
            "Wall time: 264 µs\n"
          ]
        },
        {
          "output_type": "execute_result",
          "data": {
            "text/plain": [
              "  Product       date  Sales Price Discount (%)  In-Store Promo  \\\n",
              "0    SKU1   2/5/2017  27750                 0%               0   \n",
              "1    SKU1  2/12/2017  29023                 0%               1   \n",
              "2    SKU1  2/19/2017  45630                17%               0   \n",
              "3    SKU1  2/26/2017  26789                 0%               1   \n",
              "4    SKU1   3/5/2017  41999                17%               0   \n",
              "\n",
              "   Catalogue Promo  Store End Promo  Google_Mobility  Covid_Flag  V_DAY  \\\n",
              "0                0                0              0.0           0      0   \n",
              "1                0                1              0.0           0      1   \n",
              "2                0                0              0.0           0      0   \n",
              "3                0                1              0.0           0      0   \n",
              "4                0                0              0.0           0      0   \n",
              "\n",
              "   EASTER  CHRISTMAS  \n",
              "0       0          0  \n",
              "1       0          0  \n",
              "2       0          0  \n",
              "3       0          0  \n",
              "4       0          0  "
            ],
            "text/html": [
              "\n",
              "  <div id=\"df-f3192185-fda7-458b-83d2-46c0229cea5d\">\n",
              "    <div class=\"colab-df-container\">\n",
              "      <div>\n",
              "<style scoped>\n",
              "    .dataframe tbody tr th:only-of-type {\n",
              "        vertical-align: middle;\n",
              "    }\n",
              "\n",
              "    .dataframe tbody tr th {\n",
              "        vertical-align: top;\n",
              "    }\n",
              "\n",
              "    .dataframe thead th {\n",
              "        text-align: right;\n",
              "    }\n",
              "</style>\n",
              "<table border=\"1\" class=\"dataframe\">\n",
              "  <thead>\n",
              "    <tr style=\"text-align: right;\">\n",
              "      <th></th>\n",
              "      <th>Product</th>\n",
              "      <th>date</th>\n",
              "      <th>Sales</th>\n",
              "      <th>Price Discount (%)</th>\n",
              "      <th>In-Store Promo</th>\n",
              "      <th>Catalogue Promo</th>\n",
              "      <th>Store End Promo</th>\n",
              "      <th>Google_Mobility</th>\n",
              "      <th>Covid_Flag</th>\n",
              "      <th>V_DAY</th>\n",
              "      <th>EASTER</th>\n",
              "      <th>CHRISTMAS</th>\n",
              "    </tr>\n",
              "  </thead>\n",
              "  <tbody>\n",
              "    <tr>\n",
              "      <th>0</th>\n",
              "      <td>SKU1</td>\n",
              "      <td>2/5/2017</td>\n",
              "      <td>27750</td>\n",
              "      <td>0%</td>\n",
              "      <td>0</td>\n",
              "      <td>0</td>\n",
              "      <td>0</td>\n",
              "      <td>0.0</td>\n",
              "      <td>0</td>\n",
              "      <td>0</td>\n",
              "      <td>0</td>\n",
              "      <td>0</td>\n",
              "    </tr>\n",
              "    <tr>\n",
              "      <th>1</th>\n",
              "      <td>SKU1</td>\n",
              "      <td>2/12/2017</td>\n",
              "      <td>29023</td>\n",
              "      <td>0%</td>\n",
              "      <td>1</td>\n",
              "      <td>0</td>\n",
              "      <td>1</td>\n",
              "      <td>0.0</td>\n",
              "      <td>0</td>\n",
              "      <td>1</td>\n",
              "      <td>0</td>\n",
              "      <td>0</td>\n",
              "    </tr>\n",
              "    <tr>\n",
              "      <th>2</th>\n",
              "      <td>SKU1</td>\n",
              "      <td>2/19/2017</td>\n",
              "      <td>45630</td>\n",
              "      <td>17%</td>\n",
              "      <td>0</td>\n",
              "      <td>0</td>\n",
              "      <td>0</td>\n",
              "      <td>0.0</td>\n",
              "      <td>0</td>\n",
              "      <td>0</td>\n",
              "      <td>0</td>\n",
              "      <td>0</td>\n",
              "    </tr>\n",
              "    <tr>\n",
              "      <th>3</th>\n",
              "      <td>SKU1</td>\n",
              "      <td>2/26/2017</td>\n",
              "      <td>26789</td>\n",
              "      <td>0%</td>\n",
              "      <td>1</td>\n",
              "      <td>0</td>\n",
              "      <td>1</td>\n",
              "      <td>0.0</td>\n",
              "      <td>0</td>\n",
              "      <td>0</td>\n",
              "      <td>0</td>\n",
              "      <td>0</td>\n",
              "    </tr>\n",
              "    <tr>\n",
              "      <th>4</th>\n",
              "      <td>SKU1</td>\n",
              "      <td>3/5/2017</td>\n",
              "      <td>41999</td>\n",
              "      <td>17%</td>\n",
              "      <td>0</td>\n",
              "      <td>0</td>\n",
              "      <td>0</td>\n",
              "      <td>0.0</td>\n",
              "      <td>0</td>\n",
              "      <td>0</td>\n",
              "      <td>0</td>\n",
              "      <td>0</td>\n",
              "    </tr>\n",
              "  </tbody>\n",
              "</table>\n",
              "</div>\n",
              "      <button class=\"colab-df-convert\" onclick=\"convertToInteractive('df-f3192185-fda7-458b-83d2-46c0229cea5d')\"\n",
              "              title=\"Convert this dataframe to an interactive table.\"\n",
              "              style=\"display:none;\">\n",
              "        \n",
              "  <svg xmlns=\"http://www.w3.org/2000/svg\" height=\"24px\"viewBox=\"0 0 24 24\"\n",
              "       width=\"24px\">\n",
              "    <path d=\"M0 0h24v24H0V0z\" fill=\"none\"/>\n",
              "    <path d=\"M18.56 5.44l.94 2.06.94-2.06 2.06-.94-2.06-.94-.94-2.06-.94 2.06-2.06.94zm-11 1L8.5 8.5l.94-2.06 2.06-.94-2.06-.94L8.5 2.5l-.94 2.06-2.06.94zm10 10l.94 2.06.94-2.06 2.06-.94-2.06-.94-.94-2.06-.94 2.06-2.06.94z\"/><path d=\"M17.41 7.96l-1.37-1.37c-.4-.4-.92-.59-1.43-.59-.52 0-1.04.2-1.43.59L10.3 9.45l-7.72 7.72c-.78.78-.78 2.05 0 2.83L4 21.41c.39.39.9.59 1.41.59.51 0 1.02-.2 1.41-.59l7.78-7.78 2.81-2.81c.8-.78.8-2.07 0-2.86zM5.41 20L4 18.59l7.72-7.72 1.47 1.35L5.41 20z\"/>\n",
              "  </svg>\n",
              "      </button>\n",
              "      \n",
              "  <style>\n",
              "    .colab-df-container {\n",
              "      display:flex;\n",
              "      flex-wrap:wrap;\n",
              "      gap: 12px;\n",
              "    }\n",
              "\n",
              "    .colab-df-convert {\n",
              "      background-color: #E8F0FE;\n",
              "      border: none;\n",
              "      border-radius: 50%;\n",
              "      cursor: pointer;\n",
              "      display: none;\n",
              "      fill: #1967D2;\n",
              "      height: 32px;\n",
              "      padding: 0 0 0 0;\n",
              "      width: 32px;\n",
              "    }\n",
              "\n",
              "    .colab-df-convert:hover {\n",
              "      background-color: #E2EBFA;\n",
              "      box-shadow: 0px 1px 2px rgba(60, 64, 67, 0.3), 0px 1px 3px 1px rgba(60, 64, 67, 0.15);\n",
              "      fill: #174EA6;\n",
              "    }\n",
              "\n",
              "    [theme=dark] .colab-df-convert {\n",
              "      background-color: #3B4455;\n",
              "      fill: #D2E3FC;\n",
              "    }\n",
              "\n",
              "    [theme=dark] .colab-df-convert:hover {\n",
              "      background-color: #434B5C;\n",
              "      box-shadow: 0px 1px 3px 1px rgba(0, 0, 0, 0.15);\n",
              "      filter: drop-shadow(0px 1px 2px rgba(0, 0, 0, 0.3));\n",
              "      fill: #FFFFFF;\n",
              "    }\n",
              "  </style>\n",
              "\n",
              "      <script>\n",
              "        const buttonEl =\n",
              "          document.querySelector('#df-f3192185-fda7-458b-83d2-46c0229cea5d button.colab-df-convert');\n",
              "        buttonEl.style.display =\n",
              "          google.colab.kernel.accessAllowed ? 'block' : 'none';\n",
              "\n",
              "        async function convertToInteractive(key) {\n",
              "          const element = document.querySelector('#df-f3192185-fda7-458b-83d2-46c0229cea5d');\n",
              "          const dataTable =\n",
              "            await google.colab.kernel.invokeFunction('convertToInteractive',\n",
              "                                                     [key], {});\n",
              "          if (!dataTable) return;\n",
              "\n",
              "          const docLinkHtml = 'Like what you see? Visit the ' +\n",
              "            '<a target=\"_blank\" href=https://colab.research.google.com/notebooks/data_table.ipynb>data table notebook</a>'\n",
              "            + ' to learn more about interactive tables.';\n",
              "          element.innerHTML = '';\n",
              "          dataTable['output_type'] = 'display_data';\n",
              "          await google.colab.output.renderOutput(dataTable, element);\n",
              "          const docLink = document.createElement('div');\n",
              "          docLink.innerHTML = docLinkHtml;\n",
              "          element.appendChild(docLink);\n",
              "        }\n",
              "      </script>\n",
              "    </div>\n",
              "  </div>\n",
              "  "
            ]
          },
          "metadata": {},
          "execution_count": 38
        }
      ],
      "source": [
        "# previewing the data using pandas \n",
        "%%time\n",
        "pandas_data.head()"
      ]
    },
    {
      "cell_type": "code",
      "source": [
        "# calculating the mean using pandas\n",
        "%%time\n",
        "pandas_data['Sales'].mean()"
      ],
      "metadata": {
        "colab": {
          "base_uri": "https://localhost:8080/"
        },
        "id": "8u2DeSIm38G8",
        "outputId": "14d14e4a-9ab6-4b3e-860c-2388e60e5228"
      },
      "execution_count": 39,
      "outputs": [
        {
          "output_type": "stream",
          "name": "stdout",
          "text": [
            "CPU times: user 1.23 ms, sys: 0 ns, total: 1.23 ms\n",
            "Wall time: 3.15 ms\n"
          ]
        },
        {
          "output_type": "execute_result",
          "data": {
            "text/plain": [
              "30294.678981937603"
            ]
          },
          "metadata": {},
          "execution_count": 39
        }
      ]
    },
    {
      "cell_type": "code",
      "source": [
        "# calculating the standard deviation using pandas\n",
        "%%time\n",
        "pandas_data['Sales'].std()"
      ],
      "metadata": {
        "colab": {
          "base_uri": "https://localhost:8080/"
        },
        "id": "TTnJvICN4_Rz",
        "outputId": "a694f239-f918-45da-fe50-9365dd49fe54"
      },
      "execution_count": 40,
      "outputs": [
        {
          "output_type": "stream",
          "name": "stdout",
          "text": [
            "CPU times: user 2.03 ms, sys: 0 ns, total: 2.03 ms\n",
            "Wall time: 1.97 ms\n"
          ]
        },
        {
          "output_type": "execute_result",
          "data": {
            "text/plain": [
              "35032.527296525805"
            ]
          },
          "metadata": {},
          "execution_count": 40
        }
      ]
    },
    {
      "cell_type": "code",
      "source": [
        "# using groupby in pandas\n",
        "%%time\n",
        "pandas_data.groupby('Product')"
      ],
      "metadata": {
        "colab": {
          "base_uri": "https://localhost:8080/"
        },
        "id": "RQaUZCxZ4_gQ",
        "outputId": "f306b40c-f524-4abc-ab8a-d778dab3c388"
      },
      "execution_count": 41,
      "outputs": [
        {
          "output_type": "stream",
          "name": "stdout",
          "text": [
            "CPU times: user 436 µs, sys: 0 ns, total: 436 µs\n",
            "Wall time: 2.45 ms\n"
          ]
        },
        {
          "output_type": "execute_result",
          "data": {
            "text/plain": [
              "<pandas.core.groupby.generic.DataFrameGroupBy object at 0x7ff338608520>"
            ]
          },
          "metadata": {},
          "execution_count": 41
        }
      ]
    },
    {
      "cell_type": "markdown",
      "metadata": {
        "id": "oS2GGOdt3T2X"
      },
      "source": [
        "### Using Modin"
      ]
    },
    {
      "cell_type": "code",
      "execution_count": null,
      "metadata": {
        "colab": {
          "base_uri": "https://localhost:8080/"
        },
        "id": "CsjB-dSC3FIl",
        "outputId": "2bc8e2f7-6b4f-4883-81d7-b3891f444282"
      },
      "outputs": [
        {
          "output_type": "stream",
          "name": "stdout",
          "text": [
            "Looking in indexes: https://pypi.org/simple, https://us-python.pkg.dev/colab-wheels/public/simple/\n",
            "Collecting modin\n",
            "  Downloading modin-0.19.0-py3-none-any.whl (1.0 MB)\n",
            "\u001b[2K     \u001b[90m━━━━━━━━━━━━━━━━━━━━━━━━━━━━━━━━━━━━━━━━\u001b[0m \u001b[32m1.0/1.0 MB\u001b[0m \u001b[31m21.5 MB/s\u001b[0m eta \u001b[36m0:00:00\u001b[0m\n",
            "\u001b[?25hRequirement already satisfied: numpy>=1.18.5 in /usr/local/lib/python3.9/dist-packages (from modin) (1.22.4)\n",
            "Requirement already satisfied: psutil in /usr/local/lib/python3.9/dist-packages (from modin) (5.9.4)\n",
            "Collecting pandas==1.5.3\n",
            "  Downloading pandas-1.5.3-cp39-cp39-manylinux_2_17_x86_64.manylinux2014_x86_64.whl (12.2 MB)\n",
            "\u001b[2K     \u001b[90m━━━━━━━━━━━━━━━━━━━━━━━━━━━━━━━━━━━━━━━━\u001b[0m \u001b[32m12.2/12.2 MB\u001b[0m \u001b[31m65.5 MB/s\u001b[0m eta \u001b[36m0:00:00\u001b[0m\n",
            "\u001b[?25hRequirement already satisfied: fsspec in /usr/local/lib/python3.9/dist-packages (from modin) (2023.3.0)\n",
            "Requirement already satisfied: packaging in /usr/local/lib/python3.9/dist-packages (from modin) (23.0)\n",
            "Requirement already satisfied: pytz>=2020.1 in /usr/local/lib/python3.9/dist-packages (from pandas==1.5.3->modin) (2022.7.1)\n",
            "Requirement already satisfied: python-dateutil>=2.8.1 in /usr/local/lib/python3.9/dist-packages (from pandas==1.5.3->modin) (2.8.2)\n",
            "Requirement already satisfied: six>=1.5 in /usr/local/lib/python3.9/dist-packages (from python-dateutil>=2.8.1->pandas==1.5.3->modin) (1.16.0)\n",
            "Installing collected packages: pandas, modin\n",
            "  Attempting uninstall: pandas\n",
            "    Found existing installation: pandas 1.4.4\n",
            "    Uninstalling pandas-1.4.4:\n",
            "      Successfully uninstalled pandas-1.4.4\n",
            "Successfully installed modin-0.19.0 pandas-1.5.3\n"
          ]
        }
      ],
      "source": [
        "#installing modin\n",
        "!pip install modin"
      ]
    },
    {
      "cell_type": "code",
      "execution_count": null,
      "metadata": {
        "id": "hLpoK-HR5542"
      },
      "outputs": [],
      "source": [
        "import modin.pandas as pd"
      ]
    },
    {
      "cell_type": "code",
      "execution_count": null,
      "metadata": {
        "colab": {
          "base_uri": "https://localhost:8080/"
        },
        "id": "bEIvHXfjCQRr",
        "outputId": "213dda29-fdb4-497e-eb3d-618ec90a64d2"
      },
      "outputs": [
        {
          "output_type": "stream",
          "name": "stderr",
          "text": [
            "INFO:distributed.scheduler:State start\n",
            "INFO:distributed.scheduler:  Scheduler at:     tcp://127.0.0.1:41555\n",
            "INFO:distributed.scheduler:  dashboard at:           127.0.0.1:37019\n",
            "INFO:distributed.nanny:        Start Nanny at: 'tcp://127.0.0.1:43599'\n",
            "INFO:distributed.nanny:        Start Nanny at: 'tcp://127.0.0.1:38047'\n",
            "INFO:distributed.scheduler:Register worker <WorkerState 'tcp://127.0.0.1:38071', name: 0, status: init, memory: 0, processing: 0>\n",
            "INFO:distributed.scheduler:Starting worker compute stream, tcp://127.0.0.1:38071\n",
            "INFO:distributed.core:Starting established connection to tcp://127.0.0.1:53962\n",
            "INFO:distributed.scheduler:Register worker <WorkerState 'tcp://127.0.0.1:34317', name: 1, status: init, memory: 0, processing: 0>\n",
            "INFO:distributed.scheduler:Starting worker compute stream, tcp://127.0.0.1:34317\n",
            "INFO:distributed.core:Starting established connection to tcp://127.0.0.1:53966\n",
            "INFO:distributed.scheduler:Receive client connection: Client-92fed011-c88f-11ed-8083-0242ac1c000c\n",
            "INFO:distributed.core:Starting established connection to tcp://127.0.0.1:53982\n"
          ]
        },
        {
          "output_type": "stream",
          "name": "stdout",
          "text": [
            "CPU times: user 656 ms, sys: 147 ms, total: 803 ms\n",
            "Wall time: 4.18 s\n"
          ]
        }
      ],
      "source": [
        "%%time\n",
        "from distributed import Client\n",
        "client=Client()"
      ]
    },
    {
      "cell_type": "code",
      "execution_count": null,
      "metadata": {
        "colab": {
          "base_uri": "https://localhost:8080/"
        },
        "id": "mNL_beP8CGDj",
        "outputId": "1468c6bb-09dd-4f30-9728-adee45045e8d"
      },
      "outputs": [
        {
          "output_type": "stream",
          "name": "stdout",
          "text": [
            "CPU times: user 109 ms, sys: 31.6 ms, total: 141 ms\n",
            "Wall time: 417 ms\n"
          ]
        }
      ],
      "source": [
        "%%time\n",
        "data3=pd.read_csv('/content/forecasting_case_study.xlsx - Sheet1.csv')"
      ]
    },
    {
      "cell_type": "code",
      "execution_count": null,
      "metadata": {
        "colab": {
          "base_uri": "https://localhost:8080/"
        },
        "id": "Kr5FR0GbDad-",
        "outputId": "f1636556-9638-47f3-a636-2026a0080b16"
      },
      "outputs": [
        {
          "output_type": "stream",
          "name": "stdout",
          "text": [
            "CPU times: user 2.22 ms, sys: 0 ns, total: 2.22 ms\n",
            "Wall time: 2.81 ms\n"
          ]
        },
        {
          "output_type": "execute_result",
          "data": {
            "text/plain": [
              "  Product       date  Sales Price Discount (%)  In-Store Promo  \\\n",
              "0    SKU1   2/5/2017  27750                 0%               0   \n",
              "1    SKU1  2/12/2017  29023                 0%               1   \n",
              "2    SKU1  2/19/2017  45630                17%               0   \n",
              "3    SKU1  2/26/2017  26789                 0%               1   \n",
              "4    SKU1   3/5/2017  41999                17%               0   \n",
              "\n",
              "   Catalogue Promo  Store End Promo  Google_Mobility  Covid_Flag  V_DAY  \\\n",
              "0                0                0              0.0           0      0   \n",
              "1                0                1              0.0           0      1   \n",
              "2                0                0              0.0           0      0   \n",
              "3                0                1              0.0           0      0   \n",
              "4                0                0              0.0           0      0   \n",
              "\n",
              "   EASTER  CHRISTMAS  \n",
              "0       0          0  \n",
              "1       0          0  \n",
              "2       0          0  \n",
              "3       0          0  \n",
              "4       0          0  "
            ],
            "text/html": [
              "<div>\n",
              "<style scoped>\n",
              "    .dataframe tbody tr th:only-of-type {\n",
              "        vertical-align: middle;\n",
              "    }\n",
              "\n",
              "    .dataframe tbody tr th {\n",
              "        vertical-align: top;\n",
              "    }\n",
              "\n",
              "    .dataframe thead th {\n",
              "        text-align: right;\n",
              "    }\n",
              "</style>\n",
              "<table border=\"1\" class=\"dataframe\">\n",
              "  <thead>\n",
              "    <tr style=\"text-align: right;\">\n",
              "      <th></th>\n",
              "      <th>Product</th>\n",
              "      <th>date</th>\n",
              "      <th>Sales</th>\n",
              "      <th>Price Discount (%)</th>\n",
              "      <th>In-Store Promo</th>\n",
              "      <th>Catalogue Promo</th>\n",
              "      <th>Store End Promo</th>\n",
              "      <th>Google_Mobility</th>\n",
              "      <th>Covid_Flag</th>\n",
              "      <th>V_DAY</th>\n",
              "      <th>EASTER</th>\n",
              "      <th>CHRISTMAS</th>\n",
              "    </tr>\n",
              "  </thead>\n",
              "  <tbody>\n",
              "    <tr>\n",
              "      <th>0</th>\n",
              "      <td>SKU1</td>\n",
              "      <td>2/5/2017</td>\n",
              "      <td>27750</td>\n",
              "      <td>0%</td>\n",
              "      <td>0</td>\n",
              "      <td>0</td>\n",
              "      <td>0</td>\n",
              "      <td>0.0</td>\n",
              "      <td>0</td>\n",
              "      <td>0</td>\n",
              "      <td>0</td>\n",
              "      <td>0</td>\n",
              "    </tr>\n",
              "    <tr>\n",
              "      <th>1</th>\n",
              "      <td>SKU1</td>\n",
              "      <td>2/12/2017</td>\n",
              "      <td>29023</td>\n",
              "      <td>0%</td>\n",
              "      <td>1</td>\n",
              "      <td>0</td>\n",
              "      <td>1</td>\n",
              "      <td>0.0</td>\n",
              "      <td>0</td>\n",
              "      <td>1</td>\n",
              "      <td>0</td>\n",
              "      <td>0</td>\n",
              "    </tr>\n",
              "    <tr>\n",
              "      <th>2</th>\n",
              "      <td>SKU1</td>\n",
              "      <td>2/19/2017</td>\n",
              "      <td>45630</td>\n",
              "      <td>17%</td>\n",
              "      <td>0</td>\n",
              "      <td>0</td>\n",
              "      <td>0</td>\n",
              "      <td>0.0</td>\n",
              "      <td>0</td>\n",
              "      <td>0</td>\n",
              "      <td>0</td>\n",
              "      <td>0</td>\n",
              "    </tr>\n",
              "    <tr>\n",
              "      <th>3</th>\n",
              "      <td>SKU1</td>\n",
              "      <td>2/26/2017</td>\n",
              "      <td>26789</td>\n",
              "      <td>0%</td>\n",
              "      <td>1</td>\n",
              "      <td>0</td>\n",
              "      <td>1</td>\n",
              "      <td>0.0</td>\n",
              "      <td>0</td>\n",
              "      <td>0</td>\n",
              "      <td>0</td>\n",
              "      <td>0</td>\n",
              "    </tr>\n",
              "    <tr>\n",
              "      <th>4</th>\n",
              "      <td>SKU1</td>\n",
              "      <td>3/5/2017</td>\n",
              "      <td>41999</td>\n",
              "      <td>17%</td>\n",
              "      <td>0</td>\n",
              "      <td>0</td>\n",
              "      <td>0</td>\n",
              "      <td>0.0</td>\n",
              "      <td>0</td>\n",
              "      <td>0</td>\n",
              "      <td>0</td>\n",
              "      <td>0</td>\n",
              "    </tr>\n",
              "  </tbody>\n",
              "</table>\n",
              "</div>"
            ]
          },
          "metadata": {},
          "execution_count": 10
        }
      ],
      "source": [
        "%%time\n",
        "data3.head()"
      ]
    },
    {
      "cell_type": "markdown",
      "metadata": {
        "id": "g51AA7wIF7o0"
      },
      "source": [
        "### Using Vaex"
      ]
    },
    {
      "cell_type": "code",
      "execution_count": null,
      "metadata": {
        "colab": {
          "base_uri": "https://localhost:8080/",
          "height": 1000
        },
        "id": "xBCGKBSyGBLs",
        "outputId": "b7e5d266-e708-44e9-8ba3-2aae46951175"
      },
      "outputs": [
        {
          "output_type": "stream",
          "name": "stdout",
          "text": [
            "Looking in indexes: https://pypi.org/simple, https://us-python.pkg.dev/colab-wheels/public/simple/\n",
            "Collecting vaex\n",
            "  Downloading vaex-4.16.0-py3-none-any.whl (4.7 kB)\n",
            "Collecting vaex-hdf5<0.15,>=0.13.0\n",
            "  Downloading vaex_hdf5-0.14.1-py3-none-any.whl (16 kB)\n",
            "Collecting vaex-viz<0.6,>=0.5.4\n",
            "  Downloading vaex_viz-0.5.4-py3-none-any.whl (19 kB)\n",
            "Collecting vaex-astro<0.10,>=0.9.3\n",
            "  Downloading vaex_astro-0.9.3-py3-none-any.whl (20 kB)\n",
            "Collecting vaex-core<4.17,>=4.16.0\n",
            "  Downloading vaex_core-4.16.1-cp39-cp39-manylinux_2_17_x86_64.manylinux2014_x86_64.whl (4.5 MB)\n",
            "\u001b[2K     \u001b[90m━━━━━━━━━━━━━━━━━━━━━━━━━━━━━━━━━━━━━━━━\u001b[0m \u001b[32m4.5/4.5 MB\u001b[0m \u001b[31m45.0 MB/s\u001b[0m eta \u001b[36m0:00:00\u001b[0m\n",
            "\u001b[?25hCollecting vaex-jupyter<0.9,>=0.8.1\n",
            "  Downloading vaex_jupyter-0.8.1-py3-none-any.whl (43 kB)\n",
            "\u001b[2K     \u001b[90m━━━━━━━━━━━━━━━━━━━━━━━━━━━━━━━━━━━━━━━━\u001b[0m \u001b[32m43.2/43.2 KB\u001b[0m \u001b[31m4.2 MB/s\u001b[0m eta \u001b[36m0:00:00\u001b[0m\n",
            "\u001b[?25hCollecting vaex-server<0.9,>=0.8.1\n",
            "  Downloading vaex_server-0.8.1-py3-none-any.whl (23 kB)\n",
            "Collecting vaex-ml<0.19,>=0.18.1\n",
            "  Downloading vaex_ml-0.18.1-py3-none-any.whl (58 kB)\n",
            "\u001b[2K     \u001b[90m━━━━━━━━━━━━━━━━━━━━━━━━━━━━━━━━━━━━━━━━\u001b[0m \u001b[32m58.2/58.2 KB\u001b[0m \u001b[31m7.0 MB/s\u001b[0m eta \u001b[36m0:00:00\u001b[0m\n",
            "\u001b[?25hRequirement already satisfied: astropy in /usr/local/lib/python3.9/dist-packages (from vaex-astro<0.10,>=0.9.3->vaex) (5.2.1)\n",
            "Requirement already satisfied: numpy>=1.16 in /usr/local/lib/python3.9/dist-packages (from vaex-core<4.17,>=4.16.0->vaex) (1.22.4)\n",
            "Requirement already satisfied: progressbar2 in /usr/local/lib/python3.9/dist-packages (from vaex-core<4.17,>=4.16.0->vaex) (3.38.0)\n",
            "Requirement already satisfied: cloudpickle in /usr/local/lib/python3.9/dist-packages (from vaex-core<4.17,>=4.16.0->vaex) (2.2.1)\n",
            "Requirement already satisfied: six in /usr/local/lib/python3.9/dist-packages (from vaex-core<4.17,>=4.16.0->vaex) (1.16.0)\n",
            "Collecting frozendict!=2.2.0\n",
            "  Downloading frozendict-2.3.6-cp39-cp39-manylinux_2_17_x86_64.manylinux2014_x86_64.whl (114 kB)\n",
            "\u001b[2K     \u001b[90m━━━━━━━━━━━━━━━━━━━━━━━━━━━━━━━━━━━━━━\u001b[0m \u001b[32m114.3/114.3 KB\u001b[0m \u001b[31m12.1 MB/s\u001b[0m eta \u001b[36m0:00:00\u001b[0m\n",
            "\u001b[?25hCollecting rich\n",
            "  Downloading rich-13.3.2-py3-none-any.whl (238 kB)\n",
            "\u001b[2K     \u001b[90m━━━━━━━━━━━━━━━━━━━━━━━━━━━━━━━━━━━━━━\u001b[0m \u001b[32m238.7/238.7 KB\u001b[0m \u001b[31m22.1 MB/s\u001b[0m eta \u001b[36m0:00:00\u001b[0m\n",
            "\u001b[?25hRequirement already satisfied: future>=0.15.2 in /usr/local/lib/python3.9/dist-packages (from vaex-core<4.17,>=4.16.0->vaex) (0.18.3)\n",
            "Requirement already satisfied: pandas in /usr/local/lib/python3.9/dist-packages (from vaex-core<4.17,>=4.16.0->vaex) (1.5.3)\n",
            "Requirement already satisfied: pyarrow>=5.0.0 in /usr/local/lib/python3.9/dist-packages (from vaex-core<4.17,>=4.16.0->vaex) (9.0.0)\n",
            "Requirement already satisfied: nest-asyncio>=1.3.3 in /usr/local/lib/python3.9/dist-packages (from vaex-core<4.17,>=4.16.0->vaex) (1.5.6)\n",
            "Collecting aplus\n",
            "  Downloading aplus-0.11.0.tar.gz (3.7 kB)\n",
            "  Preparing metadata (setup.py) ... \u001b[?25l\u001b[?25hdone\n",
            "Requirement already satisfied: tabulate>=0.8.3 in /usr/local/lib/python3.9/dist-packages (from vaex-core<4.17,>=4.16.0->vaex) (0.8.10)\n",
            "Collecting blake3\n",
            "  Downloading blake3-0.3.3-cp39-cp39-manylinux_2_17_x86_64.manylinux2014_x86_64.whl (1.2 MB)\n",
            "\u001b[2K     \u001b[90m━━━━━━━━━━━━━━━━━━━━━━━━━━━━━━━━━━━━━━━━\u001b[0m \u001b[32m1.2/1.2 MB\u001b[0m \u001b[31m53.3 MB/s\u001b[0m eta \u001b[36m0:00:00\u001b[0m\n",
            "\u001b[?25hRequirement already satisfied: dask!=2022.4.0 in /usr/local/lib/python3.9/dist-packages (from vaex-core<4.17,>=4.16.0->vaex) (2022.12.1)\n",
            "Requirement already satisfied: pyyaml in /usr/local/lib/python3.9/dist-packages (from vaex-core<4.17,>=4.16.0->vaex) (6.0)\n",
            "Requirement already satisfied: requests in /usr/local/lib/python3.9/dist-packages (from vaex-core<4.17,>=4.16.0->vaex) (2.27.1)\n",
            "Requirement already satisfied: pydantic>=1.8.0 in /usr/local/lib/python3.9/dist-packages (from vaex-core<4.17,>=4.16.0->vaex) (1.10.6)\n",
            "Requirement already satisfied: filelock in /usr/local/lib/python3.9/dist-packages (from vaex-core<4.17,>=4.16.0->vaex) (3.10.0)\n",
            "Requirement already satisfied: h5py>=2.9 in /usr/local/lib/python3.9/dist-packages (from vaex-hdf5<0.15,>=0.13.0->vaex) (3.8.0)\n",
            "Collecting ipyvolume>=0.4\n",
            "  Downloading ipyvolume-0.6.1-py3-none-any.whl (1.6 MB)\n",
            "\u001b[2K     \u001b[90m━━━━━━━━━━━━━━━━━━━━━━━━━━━━━━━━━━━━━━━━\u001b[0m \u001b[32m1.6/1.6 MB\u001b[0m \u001b[31m55.5 MB/s\u001b[0m eta \u001b[36m0:00:00\u001b[0m\n",
            "\u001b[?25hCollecting ipympl\n",
            "  Downloading ipympl-0.9.3-py2.py3-none-any.whl (511 kB)\n",
            "\u001b[2K     \u001b[90m━━━━━━━━━━━━━━━━━━━━━━━━━━━━━━━━━━━━━━\u001b[0m \u001b[32m511.6/511.6 KB\u001b[0m \u001b[31m32.2 MB/s\u001b[0m eta \u001b[36m0:00:00\u001b[0m\n",
            "\u001b[?25hCollecting bqplot>=0.10.1\n",
            "  Downloading bqplot-0.12.36-py2.py3-none-any.whl (1.2 MB)\n",
            "\u001b[2K     \u001b[90m━━━━━━━━━━━━━━━━━━━━━━━━━━━━━━━━━━━━━━━━\u001b[0m \u001b[32m1.2/1.2 MB\u001b[0m \u001b[31m49.3 MB/s\u001b[0m eta \u001b[36m0:00:00\u001b[0m\n",
            "\u001b[?25hCollecting ipyvuetify<2,>=1.2.2\n",
            "  Downloading ipyvuetify-1.8.5-py2.py3-none-any.whl (11.7 MB)\n",
            "\u001b[2K     \u001b[90m━━━━━━━━━━━━━━━━━━━━━━━━━━━━━━━━━━━━━━━━\u001b[0m \u001b[32m11.7/11.7 MB\u001b[0m \u001b[31m60.1 MB/s\u001b[0m eta \u001b[36m0:00:00\u001b[0m\n",
            "\u001b[?25hRequirement already satisfied: xarray in /usr/local/lib/python3.9/dist-packages (from vaex-jupyter<0.9,>=0.8.1->vaex) (2022.12.0)\n",
            "Collecting ipyleaflet\n",
            "  Downloading ipyleaflet-0.17.2-py3-none-any.whl (3.7 MB)\n",
            "\u001b[2K     \u001b[90m━━━━━━━━━━━━━━━━━━━━━━━━━━━━━━━━━━━━━━━━\u001b[0m \u001b[32m3.7/3.7 MB\u001b[0m \u001b[31m63.7 MB/s\u001b[0m eta \u001b[36m0:00:00\u001b[0m\n",
            "\u001b[?25hRequirement already satisfied: jinja2 in /usr/local/lib/python3.9/dist-packages (from vaex-ml<0.19,>=0.18.1->vaex) (3.1.2)\n",
            "Requirement already satisfied: numba in /usr/local/lib/python3.9/dist-packages (from vaex-ml<0.19,>=0.18.1->vaex) (0.56.4)\n",
            "Requirement already satisfied: traitlets in /usr/local/lib/python3.9/dist-packages (from vaex-ml<0.19,>=0.18.1->vaex) (5.7.1)\n",
            "Collecting uvicorn[standard]\n",
            "  Downloading uvicorn-0.21.1-py3-none-any.whl (57 kB)\n",
            "\u001b[2K     \u001b[90m━━━━━━━━━━━━━━━━━━━━━━━━━━━━━━━━━━━━━━━━\u001b[0m \u001b[32m57.8/57.8 KB\u001b[0m \u001b[31m7.2 MB/s\u001b[0m eta \u001b[36m0:00:00\u001b[0m\n",
            "\u001b[?25hRequirement already satisfied: tornado>4.1 in /usr/local/lib/python3.9/dist-packages (from vaex-server<0.9,>=0.8.1->vaex) (6.2)\n",
            "Requirement already satisfied: cachetools in /usr/local/lib/python3.9/dist-packages (from vaex-server<0.9,>=0.8.1->vaex) (5.3.0)\n",
            "Collecting fastapi\n",
            "  Downloading fastapi-0.95.0-py3-none-any.whl (57 kB)\n",
            "\u001b[2K     \u001b[90m━━━━━━━━━━━━━━━━━━━━━━━━━━━━━━━━━━━━━━━━\u001b[0m \u001b[32m57.1/57.1 KB\u001b[0m \u001b[31m7.0 MB/s\u001b[0m eta \u001b[36m0:00:00\u001b[0m\n",
            "\u001b[?25hRequirement already satisfied: pillow in /usr/local/lib/python3.9/dist-packages (from vaex-viz<0.6,>=0.5.4->vaex) (8.4.0)\n",
            "Requirement already satisfied: matplotlib>=1.3.1 in /usr/local/lib/python3.9/dist-packages (from vaex-viz<0.6,>=0.5.4->vaex) (3.7.1)\n",
            "Requirement already satisfied: ipywidgets<9,>=7.5.0 in /usr/local/lib/python3.9/dist-packages (from bqplot>=0.10.1->vaex-jupyter<0.9,>=0.8.1->vaex) (7.7.1)\n",
            "Collecting traittypes>=0.0.6\n",
            "  Downloading traittypes-0.2.1-py2.py3-none-any.whl (8.6 kB)\n",
            "Requirement already satisfied: fsspec>=0.6.0 in /usr/local/lib/python3.9/dist-packages (from dask!=2022.4.0->vaex-core<4.17,>=4.16.0->vaex) (2023.3.0)\n",
            "Requirement already satisfied: partd>=0.3.10 in /usr/local/lib/python3.9/dist-packages (from dask!=2022.4.0->vaex-core<4.17,>=4.16.0->vaex) (1.3.0)\n",
            "Requirement already satisfied: packaging>=20.0 in /usr/local/lib/python3.9/dist-packages (from dask!=2022.4.0->vaex-core<4.17,>=4.16.0->vaex) (23.0)\n",
            "Requirement already satisfied: toolz>=0.8.2 in /usr/local/lib/python3.9/dist-packages (from dask!=2022.4.0->vaex-core<4.17,>=4.16.0->vaex) (0.12.0)\n",
            "Requirement already satisfied: click>=7.0 in /usr/local/lib/python3.9/dist-packages (from dask!=2022.4.0->vaex-core<4.17,>=4.16.0->vaex) (8.1.3)\n",
            "Collecting ipywebrtc\n",
            "  Downloading ipywebrtc-0.6.0-py2.py3-none-any.whl (260 kB)\n",
            "\u001b[2K     \u001b[90m━━━━━━━━━━━━━━━━━━━━━━━━━━━━━━━━━━━━━━\u001b[0m \u001b[32m260.7/260.7 KB\u001b[0m \u001b[31m21.6 MB/s\u001b[0m eta \u001b[36m0:00:00\u001b[0m\n",
            "\u001b[?25hCollecting pythreejs>=2.4.0\n",
            "  Downloading pythreejs-2.4.2-py3-none-any.whl (3.4 MB)\n",
            "\u001b[2K     \u001b[90m━━━━━━━━━━━━━━━━━━━━━━━━━━━━━━━━━━━━━━━━\u001b[0m \u001b[32m3.4/3.4 MB\u001b[0m \u001b[31m61.9 MB/s\u001b[0m eta \u001b[36m0:00:00\u001b[0m\n",
            "\u001b[?25hCollecting ipyvue>=1.7.0\n",
            "  Downloading ipyvue-1.9.0-py2.py3-none-any.whl (2.7 MB)\n",
            "\u001b[2K     \u001b[90m━━━━━━━━━━━━━━━━━━━━━━━━━━━━━━━━━━━━━━━━\u001b[0m \u001b[32m2.7/2.7 MB\u001b[0m \u001b[31m54.0 MB/s\u001b[0m eta \u001b[36m0:00:00\u001b[0m\n",
            "\u001b[?25hRequirement already satisfied: cycler>=0.10 in /usr/local/lib/python3.9/dist-packages (from matplotlib>=1.3.1->vaex-viz<0.6,>=0.5.4->vaex) (0.11.0)\n",
            "Requirement already satisfied: pyparsing>=2.3.1 in /usr/local/lib/python3.9/dist-packages (from matplotlib>=1.3.1->vaex-viz<0.6,>=0.5.4->vaex) (3.0.9)\n",
            "Requirement already satisfied: contourpy>=1.0.1 in /usr/local/lib/python3.9/dist-packages (from matplotlib>=1.3.1->vaex-viz<0.6,>=0.5.4->vaex) (1.0.7)\n",
            "Requirement already satisfied: importlib-resources>=3.2.0 in /usr/local/lib/python3.9/dist-packages (from matplotlib>=1.3.1->vaex-viz<0.6,>=0.5.4->vaex) (5.12.0)\n",
            "Requirement already satisfied: python-dateutil>=2.7 in /usr/local/lib/python3.9/dist-packages (from matplotlib>=1.3.1->vaex-viz<0.6,>=0.5.4->vaex) (2.8.2)\n",
            "Requirement already satisfied: fonttools>=4.22.0 in /usr/local/lib/python3.9/dist-packages (from matplotlib>=1.3.1->vaex-viz<0.6,>=0.5.4->vaex) (4.39.2)\n",
            "Requirement already satisfied: kiwisolver>=1.0.1 in /usr/local/lib/python3.9/dist-packages (from matplotlib>=1.3.1->vaex-viz<0.6,>=0.5.4->vaex) (1.4.4)\n",
            "Requirement already satisfied: pytz>=2020.1 in /usr/local/lib/python3.9/dist-packages (from pandas->vaex-core<4.17,>=4.16.0->vaex) (2022.7.1)\n",
            "Requirement already satisfied: typing-extensions>=4.2.0 in /usr/local/lib/python3.9/dist-packages (from pydantic>=1.8.0->vaex-core<4.17,>=4.16.0->vaex) (4.5.0)\n",
            "Requirement already satisfied: pyerfa>=2.0 in /usr/local/lib/python3.9/dist-packages (from astropy->vaex-astro<0.10,>=0.9.3->vaex) (2.0.0.1)\n",
            "Collecting starlette<0.27.0,>=0.26.1\n",
            "  Downloading starlette-0.26.1-py3-none-any.whl (66 kB)\n",
            "\u001b[2K     \u001b[90m━━━━━━━━━━━━━━━━━━━━━━━━━━━━━━━━━━━━━━━━\u001b[0m \u001b[32m66.9/66.9 KB\u001b[0m \u001b[31m5.1 MB/s\u001b[0m eta \u001b[36m0:00:00\u001b[0m\n",
            "\u001b[?25hCollecting xyzservices>=2021.8.1\n",
            "  Downloading xyzservices-2023.2.0-py3-none-any.whl (55 kB)\n",
            "\u001b[2K     \u001b[90m━━━━━━━━━━━━━━━━━━━━━━━━━━━━━━━━━━━━━━━━\u001b[0m \u001b[32m55.4/55.4 KB\u001b[0m \u001b[31m6.4 MB/s\u001b[0m eta \u001b[36m0:00:00\u001b[0m\n",
            "\u001b[?25hRequirement already satisfied: branca>=0.5.0 in /usr/local/lib/python3.9/dist-packages (from ipyleaflet->vaex-jupyter<0.9,>=0.8.1->vaex) (0.6.0)\n",
            "Requirement already satisfied: ipython<9 in /usr/local/lib/python3.9/dist-packages (from ipympl->vaex-jupyter<0.9,>=0.8.1->vaex) (7.9.0)\n",
            "Requirement already satisfied: ipython-genutils in /usr/local/lib/python3.9/dist-packages (from ipympl->vaex-jupyter<0.9,>=0.8.1->vaex) (0.2.0)\n",
            "Requirement already satisfied: MarkupSafe>=2.0 in /usr/local/lib/python3.9/dist-packages (from jinja2->vaex-ml<0.19,>=0.18.1->vaex) (2.1.2)\n",
            "Requirement already satisfied: setuptools in /usr/local/lib/python3.9/dist-packages (from numba->vaex-ml<0.19,>=0.18.1->vaex) (63.4.3)\n",
            "Requirement already satisfied: llvmlite<0.40,>=0.39.0dev0 in /usr/local/lib/python3.9/dist-packages (from numba->vaex-ml<0.19,>=0.18.1->vaex) (0.39.1)\n",
            "Requirement already satisfied: python-utils>=2.3.0 in /usr/local/lib/python3.9/dist-packages (from progressbar2->vaex-core<4.17,>=4.16.0->vaex) (3.5.2)\n",
            "Requirement already satisfied: charset-normalizer~=2.0.0 in /usr/local/lib/python3.9/dist-packages (from requests->vaex-core<4.17,>=4.16.0->vaex) (2.0.12)\n",
            "Requirement already satisfied: certifi>=2017.4.17 in /usr/local/lib/python3.9/dist-packages (from requests->vaex-core<4.17,>=4.16.0->vaex) (2022.12.7)\n",
            "Requirement already satisfied: urllib3<1.27,>=1.21.1 in /usr/local/lib/python3.9/dist-packages (from requests->vaex-core<4.17,>=4.16.0->vaex) (1.26.15)\n",
            "Requirement already satisfied: idna<4,>=2.5 in /usr/local/lib/python3.9/dist-packages (from requests->vaex-core<4.17,>=4.16.0->vaex) (3.4)\n",
            "Collecting pygments<3.0.0,>=2.13.0\n",
            "  Downloading Pygments-2.14.0-py3-none-any.whl (1.1 MB)\n",
            "\u001b[2K     \u001b[90m━━━━━━━━━━━━━━━━━━━━━━━━━━━━━━━━━━━━━━━━\u001b[0m \u001b[32m1.1/1.1 MB\u001b[0m \u001b[31m46.8 MB/s\u001b[0m eta \u001b[36m0:00:00\u001b[0m\n",
            "\u001b[?25hCollecting markdown-it-py<3.0.0,>=2.2.0\n",
            "  Downloading markdown_it_py-2.2.0-py3-none-any.whl (84 kB)\n",
            "\u001b[2K     \u001b[90m━━━━━━━━━━━━━━━━━━━━━━━━━━━━━━━━━━━━━━━━\u001b[0m \u001b[32m84.5/84.5 KB\u001b[0m \u001b[31m9.8 MB/s\u001b[0m eta \u001b[36m0:00:00\u001b[0m\n",
            "\u001b[?25hCollecting h11>=0.8\n",
            "  Downloading h11-0.14.0-py3-none-any.whl (58 kB)\n",
            "\u001b[2K     \u001b[90m━━━━━━━━━━━━━━━━━━━━━━━━━━━━━━━━━━━━━━━━\u001b[0m \u001b[32m58.3/58.3 KB\u001b[0m \u001b[31m7.1 MB/s\u001b[0m eta \u001b[36m0:00:00\u001b[0m\n",
            "\u001b[?25hCollecting uvloop!=0.15.0,!=0.15.1,>=0.14.0\n",
            "  Downloading uvloop-0.17.0-cp39-cp39-manylinux_2_17_x86_64.manylinux2014_x86_64.whl (4.2 MB)\n",
            "\u001b[2K     \u001b[90m━━━━━━━━━━━━━━━━━━━━━━━━━━━━━━━━━━━━━━━━\u001b[0m \u001b[32m4.2/4.2 MB\u001b[0m \u001b[31m66.7 MB/s\u001b[0m eta \u001b[36m0:00:00\u001b[0m\n",
            "\u001b[?25hCollecting python-dotenv>=0.13\n",
            "  Downloading python_dotenv-1.0.0-py3-none-any.whl (19 kB)\n",
            "Collecting watchfiles>=0.13\n",
            "  Downloading watchfiles-0.18.1-cp37-abi3-manylinux_2_17_x86_64.manylinux2014_x86_64.whl (1.2 MB)\n",
            "\u001b[2K     \u001b[90m━━━━━━━━━━━━━━━━━━━━━━━━━━━━━━━━━━━━━━━━\u001b[0m \u001b[32m1.2/1.2 MB\u001b[0m \u001b[31m24.0 MB/s\u001b[0m eta \u001b[36m0:00:00\u001b[0m\n",
            "\u001b[?25hCollecting websockets>=10.4\n",
            "  Downloading websockets-10.4-cp39-cp39-manylinux_2_5_x86_64.manylinux1_x86_64.manylinux_2_17_x86_64.manylinux2014_x86_64.whl (106 kB)\n",
            "\u001b[2K     \u001b[90m━━━━━━━━━━━━━━━━━━━━━━━━━━━━━━━━━━━━━━━\u001b[0m \u001b[32m106.5/106.5 KB\u001b[0m \u001b[31m8.7 MB/s\u001b[0m eta \u001b[36m0:00:00\u001b[0m\n",
            "\u001b[?25hCollecting httptools>=0.5.0\n",
            "  Downloading httptools-0.5.0-cp39-cp39-manylinux_2_5_x86_64.manylinux1_x86_64.manylinux_2_17_x86_64.manylinux2014_x86_64.whl (417 kB)\n",
            "\u001b[2K     \u001b[90m━━━━━━━━━━━━━━━━━━━━━━━━━━━━━━━━━━━━━━\u001b[0m \u001b[32m417.9/417.9 KB\u001b[0m \u001b[31m15.8 MB/s\u001b[0m eta \u001b[36m0:00:00\u001b[0m\n",
            "\u001b[?25hRequirement already satisfied: zipp>=3.1.0 in /usr/local/lib/python3.9/dist-packages (from importlib-resources>=3.2.0->matplotlib>=1.3.1->vaex-viz<0.6,>=0.5.4->vaex) (3.15.0)\n",
            "Requirement already satisfied: pexpect in /usr/local/lib/python3.9/dist-packages (from ipython<9->ipympl->vaex-jupyter<0.9,>=0.8.1->vaex) (4.8.0)\n",
            "Requirement already satisfied: decorator in /usr/local/lib/python3.9/dist-packages (from ipython<9->ipympl->vaex-jupyter<0.9,>=0.8.1->vaex) (4.4.2)\n",
            "Requirement already satisfied: backcall in /usr/local/lib/python3.9/dist-packages (from ipython<9->ipympl->vaex-jupyter<0.9,>=0.8.1->vaex) (0.2.0)\n",
            "Requirement already satisfied: prompt-toolkit<2.1.0,>=2.0.0 in /usr/local/lib/python3.9/dist-packages (from ipython<9->ipympl->vaex-jupyter<0.9,>=0.8.1->vaex) (2.0.10)\n",
            "Requirement already satisfied: pickleshare in /usr/local/lib/python3.9/dist-packages (from ipython<9->ipympl->vaex-jupyter<0.9,>=0.8.1->vaex) (0.7.5)\n",
            "Collecting jedi>=0.10\n",
            "  Downloading jedi-0.18.2-py2.py3-none-any.whl (1.6 MB)\n",
            "\u001b[2K     \u001b[90m━━━━━━━━━━━━━━━━━━━━━━━━━━━━━━━━━━━━━━━━\u001b[0m \u001b[32m1.6/1.6 MB\u001b[0m \u001b[31m46.8 MB/s\u001b[0m eta \u001b[36m0:00:00\u001b[0m\n",
            "\u001b[?25hRequirement already satisfied: widgetsnbextension~=3.6.0 in /usr/local/lib/python3.9/dist-packages (from ipywidgets<9,>=7.5.0->bqplot>=0.10.1->vaex-jupyter<0.9,>=0.8.1->vaex) (3.6.2)\n",
            "Requirement already satisfied: ipykernel>=4.5.1 in /usr/local/lib/python3.9/dist-packages (from ipywidgets<9,>=7.5.0->bqplot>=0.10.1->vaex-jupyter<0.9,>=0.8.1->vaex) (5.3.4)\n",
            "Requirement already satisfied: jupyterlab-widgets>=1.0.0 in /usr/local/lib/python3.9/dist-packages (from ipywidgets<9,>=7.5.0->bqplot>=0.10.1->vaex-jupyter<0.9,>=0.8.1->vaex) (3.0.5)\n",
            "Collecting mdurl~=0.1\n",
            "  Downloading mdurl-0.1.2-py3-none-any.whl (10.0 kB)\n",
            "Requirement already satisfied: locket in /usr/local/lib/python3.9/dist-packages (from partd>=0.3.10->dask!=2022.4.0->vaex-core<4.17,>=4.16.0->vaex) (1.0.0)\n",
            "Collecting ipydatawidgets>=1.1.1\n",
            "  Downloading ipydatawidgets-4.3.3-py2.py3-none-any.whl (271 kB)\n",
            "\u001b[2K     \u001b[90m━━━━━━━━━━━━━━━━━━━━━━━━━━━━━━━━━━━━━━\u001b[0m \u001b[32m271.7/271.7 KB\u001b[0m \u001b[31m21.5 MB/s\u001b[0m eta \u001b[36m0:00:00\u001b[0m\n",
            "\u001b[?25hRequirement already satisfied: anyio<5,>=3.4.0 in /usr/local/lib/python3.9/dist-packages (from starlette<0.27.0,>=0.26.1->fastapi->vaex-server<0.9,>=0.8.1->vaex) (3.6.2)\n",
            "Requirement already satisfied: sniffio>=1.1 in /usr/local/lib/python3.9/dist-packages (from anyio<5,>=3.4.0->starlette<0.27.0,>=0.26.1->fastapi->vaex-server<0.9,>=0.8.1->vaex) (1.3.0)\n",
            "Requirement already satisfied: jupyter-client in /usr/local/lib/python3.9/dist-packages (from ipykernel>=4.5.1->ipywidgets<9,>=7.5.0->bqplot>=0.10.1->vaex-jupyter<0.9,>=0.8.1->vaex) (6.1.12)\n",
            "Requirement already satisfied: parso<0.9.0,>=0.8.0 in /usr/local/lib/python3.9/dist-packages (from jedi>=0.10->ipython<9->ipympl->vaex-jupyter<0.9,>=0.8.1->vaex) (0.8.3)\n",
            "Requirement already satisfied: wcwidth in /usr/local/lib/python3.9/dist-packages (from prompt-toolkit<2.1.0,>=2.0.0->ipython<9->ipympl->vaex-jupyter<0.9,>=0.8.1->vaex) (0.2.6)\n",
            "Requirement already satisfied: notebook>=4.4.1 in /usr/local/lib/python3.9/dist-packages (from widgetsnbextension~=3.6.0->ipywidgets<9,>=7.5.0->bqplot>=0.10.1->vaex-jupyter<0.9,>=0.8.1->vaex) (6.5.3)\n",
            "Requirement already satisfied: ptyprocess>=0.5 in /usr/local/lib/python3.9/dist-packages (from pexpect->ipython<9->ipympl->vaex-jupyter<0.9,>=0.8.1->vaex) (0.7.0)\n",
            "Requirement already satisfied: nbconvert>=5 in /usr/local/lib/python3.9/dist-packages (from notebook>=4.4.1->widgetsnbextension~=3.6.0->ipywidgets<9,>=7.5.0->bqplot>=0.10.1->vaex-jupyter<0.9,>=0.8.1->vaex) (6.5.4)\n",
            "Requirement already satisfied: prometheus-client in /usr/local/lib/python3.9/dist-packages (from notebook>=4.4.1->widgetsnbextension~=3.6.0->ipywidgets<9,>=7.5.0->bqplot>=0.10.1->vaex-jupyter<0.9,>=0.8.1->vaex) (0.16.0)\n",
            "Requirement already satisfied: jupyter-core>=4.6.1 in /usr/local/lib/python3.9/dist-packages (from notebook>=4.4.1->widgetsnbextension~=3.6.0->ipywidgets<9,>=7.5.0->bqplot>=0.10.1->vaex-jupyter<0.9,>=0.8.1->vaex) (5.3.0)\n",
            "Requirement already satisfied: terminado>=0.8.3 in /usr/local/lib/python3.9/dist-packages (from notebook>=4.4.1->widgetsnbextension~=3.6.0->ipywidgets<9,>=7.5.0->bqplot>=0.10.1->vaex-jupyter<0.9,>=0.8.1->vaex) (0.17.1)\n",
            "Requirement already satisfied: Send2Trash>=1.8.0 in /usr/local/lib/python3.9/dist-packages (from notebook>=4.4.1->widgetsnbextension~=3.6.0->ipywidgets<9,>=7.5.0->bqplot>=0.10.1->vaex-jupyter<0.9,>=0.8.1->vaex) (1.8.0)\n",
            "Requirement already satisfied: nbclassic>=0.4.7 in /usr/local/lib/python3.9/dist-packages (from notebook>=4.4.1->widgetsnbextension~=3.6.0->ipywidgets<9,>=7.5.0->bqplot>=0.10.1->vaex-jupyter<0.9,>=0.8.1->vaex) (0.5.3)\n",
            "Requirement already satisfied: nbformat in /usr/local/lib/python3.9/dist-packages (from notebook>=4.4.1->widgetsnbextension~=3.6.0->ipywidgets<9,>=7.5.0->bqplot>=0.10.1->vaex-jupyter<0.9,>=0.8.1->vaex) (5.7.3)\n",
            "Requirement already satisfied: argon2-cffi in /usr/local/lib/python3.9/dist-packages (from notebook>=4.4.1->widgetsnbextension~=3.6.0->ipywidgets<9,>=7.5.0->bqplot>=0.10.1->vaex-jupyter<0.9,>=0.8.1->vaex) (21.3.0)\n",
            "Requirement already satisfied: pyzmq>=17 in /usr/local/lib/python3.9/dist-packages (from notebook>=4.4.1->widgetsnbextension~=3.6.0->ipywidgets<9,>=7.5.0->bqplot>=0.10.1->vaex-jupyter<0.9,>=0.8.1->vaex) (23.2.1)\n",
            "Requirement already satisfied: platformdirs>=2.5 in /usr/local/lib/python3.9/dist-packages (from jupyter-core>=4.6.1->notebook>=4.4.1->widgetsnbextension~=3.6.0->ipywidgets<9,>=7.5.0->bqplot>=0.10.1->vaex-jupyter<0.9,>=0.8.1->vaex) (3.1.1)\n",
            "Requirement already satisfied: notebook-shim>=0.1.0 in /usr/local/lib/python3.9/dist-packages (from nbclassic>=0.4.7->notebook>=4.4.1->widgetsnbextension~=3.6.0->ipywidgets<9,>=7.5.0->bqplot>=0.10.1->vaex-jupyter<0.9,>=0.8.1->vaex) (0.2.2)\n",
            "Requirement already satisfied: jupyter-server>=1.8 in /usr/local/lib/python3.9/dist-packages (from nbclassic>=0.4.7->notebook>=4.4.1->widgetsnbextension~=3.6.0->ipywidgets<9,>=7.5.0->bqplot>=0.10.1->vaex-jupyter<0.9,>=0.8.1->vaex) (1.23.6)\n",
            "Requirement already satisfied: pandocfilters>=1.4.1 in /usr/local/lib/python3.9/dist-packages (from nbconvert>=5->notebook>=4.4.1->widgetsnbextension~=3.6.0->ipywidgets<9,>=7.5.0->bqplot>=0.10.1->vaex-jupyter<0.9,>=0.8.1->vaex) (1.5.0)\n",
            "Requirement already satisfied: lxml in /usr/local/lib/python3.9/dist-packages (from nbconvert>=5->notebook>=4.4.1->widgetsnbextension~=3.6.0->ipywidgets<9,>=7.5.0->bqplot>=0.10.1->vaex-jupyter<0.9,>=0.8.1->vaex) (4.9.2)\n",
            "Requirement already satisfied: bleach in /usr/local/lib/python3.9/dist-packages (from nbconvert>=5->notebook>=4.4.1->widgetsnbextension~=3.6.0->ipywidgets<9,>=7.5.0->bqplot>=0.10.1->vaex-jupyter<0.9,>=0.8.1->vaex) (6.0.0)\n",
            "Requirement already satisfied: tinycss2 in /usr/local/lib/python3.9/dist-packages (from nbconvert>=5->notebook>=4.4.1->widgetsnbextension~=3.6.0->ipywidgets<9,>=7.5.0->bqplot>=0.10.1->vaex-jupyter<0.9,>=0.8.1->vaex) (1.2.1)\n",
            "Requirement already satisfied: nbclient>=0.5.0 in /usr/local/lib/python3.9/dist-packages (from nbconvert>=5->notebook>=4.4.1->widgetsnbextension~=3.6.0->ipywidgets<9,>=7.5.0->bqplot>=0.10.1->vaex-jupyter<0.9,>=0.8.1->vaex) (0.7.2)\n",
            "Requirement already satisfied: entrypoints>=0.2.2 in /usr/local/lib/python3.9/dist-packages (from nbconvert>=5->notebook>=4.4.1->widgetsnbextension~=3.6.0->ipywidgets<9,>=7.5.0->bqplot>=0.10.1->vaex-jupyter<0.9,>=0.8.1->vaex) (0.4)\n",
            "Requirement already satisfied: beautifulsoup4 in /usr/local/lib/python3.9/dist-packages (from nbconvert>=5->notebook>=4.4.1->widgetsnbextension~=3.6.0->ipywidgets<9,>=7.5.0->bqplot>=0.10.1->vaex-jupyter<0.9,>=0.8.1->vaex) (4.11.2)\n",
            "Requirement already satisfied: mistune<2,>=0.8.1 in /usr/local/lib/python3.9/dist-packages (from nbconvert>=5->notebook>=4.4.1->widgetsnbextension~=3.6.0->ipywidgets<9,>=7.5.0->bqplot>=0.10.1->vaex-jupyter<0.9,>=0.8.1->vaex) (0.8.4)\n",
            "Requirement already satisfied: defusedxml in /usr/local/lib/python3.9/dist-packages (from nbconvert>=5->notebook>=4.4.1->widgetsnbextension~=3.6.0->ipywidgets<9,>=7.5.0->bqplot>=0.10.1->vaex-jupyter<0.9,>=0.8.1->vaex) (0.7.1)\n",
            "Requirement already satisfied: jupyterlab-pygments in /usr/local/lib/python3.9/dist-packages (from nbconvert>=5->notebook>=4.4.1->widgetsnbextension~=3.6.0->ipywidgets<9,>=7.5.0->bqplot>=0.10.1->vaex-jupyter<0.9,>=0.8.1->vaex) (0.2.2)\n",
            "Requirement already satisfied: fastjsonschema in /usr/local/lib/python3.9/dist-packages (from nbformat->notebook>=4.4.1->widgetsnbextension~=3.6.0->ipywidgets<9,>=7.5.0->bqplot>=0.10.1->vaex-jupyter<0.9,>=0.8.1->vaex) (2.16.3)\n",
            "Requirement already satisfied: jsonschema>=2.6 in /usr/local/lib/python3.9/dist-packages (from nbformat->notebook>=4.4.1->widgetsnbextension~=3.6.0->ipywidgets<9,>=7.5.0->bqplot>=0.10.1->vaex-jupyter<0.9,>=0.8.1->vaex) (4.3.3)\n",
            "Requirement already satisfied: argon2-cffi-bindings in /usr/local/lib/python3.9/dist-packages (from argon2-cffi->notebook>=4.4.1->widgetsnbextension~=3.6.0->ipywidgets<9,>=7.5.0->bqplot>=0.10.1->vaex-jupyter<0.9,>=0.8.1->vaex) (21.2.0)\n",
            "Requirement already satisfied: attrs>=17.4.0 in /usr/local/lib/python3.9/dist-packages (from jsonschema>=2.6->nbformat->notebook>=4.4.1->widgetsnbextension~=3.6.0->ipywidgets<9,>=7.5.0->bqplot>=0.10.1->vaex-jupyter<0.9,>=0.8.1->vaex) (22.2.0)\n",
            "Requirement already satisfied: pyrsistent!=0.17.0,!=0.17.1,!=0.17.2,>=0.14.0 in /usr/local/lib/python3.9/dist-packages (from jsonschema>=2.6->nbformat->notebook>=4.4.1->widgetsnbextension~=3.6.0->ipywidgets<9,>=7.5.0->bqplot>=0.10.1->vaex-jupyter<0.9,>=0.8.1->vaex) (0.19.3)\n",
            "Requirement already satisfied: websocket-client in /usr/local/lib/python3.9/dist-packages (from jupyter-server>=1.8->nbclassic>=0.4.7->notebook>=4.4.1->widgetsnbextension~=3.6.0->ipywidgets<9,>=7.5.0->bqplot>=0.10.1->vaex-jupyter<0.9,>=0.8.1->vaex) (1.5.1)\n",
            "Requirement already satisfied: cffi>=1.0.1 in /usr/local/lib/python3.9/dist-packages (from argon2-cffi-bindings->argon2-cffi->notebook>=4.4.1->widgetsnbextension~=3.6.0->ipywidgets<9,>=7.5.0->bqplot>=0.10.1->vaex-jupyter<0.9,>=0.8.1->vaex) (1.15.1)\n",
            "Requirement already satisfied: soupsieve>1.2 in /usr/local/lib/python3.9/dist-packages (from beautifulsoup4->nbconvert>=5->notebook>=4.4.1->widgetsnbextension~=3.6.0->ipywidgets<9,>=7.5.0->bqplot>=0.10.1->vaex-jupyter<0.9,>=0.8.1->vaex) (2.4)\n",
            "Requirement already satisfied: webencodings in /usr/local/lib/python3.9/dist-packages (from bleach->nbconvert>=5->notebook>=4.4.1->widgetsnbextension~=3.6.0->ipywidgets<9,>=7.5.0->bqplot>=0.10.1->vaex-jupyter<0.9,>=0.8.1->vaex) (0.5.1)\n",
            "Requirement already satisfied: pycparser in /usr/local/lib/python3.9/dist-packages (from cffi>=1.0.1->argon2-cffi-bindings->argon2-cffi->notebook>=4.4.1->widgetsnbextension~=3.6.0->ipywidgets<9,>=7.5.0->bqplot>=0.10.1->vaex-jupyter<0.9,>=0.8.1->vaex) (2.21)\n",
            "Building wheels for collected packages: aplus\n",
            "  Building wheel for aplus (setup.py) ... \u001b[?25l\u001b[?25hdone\n",
            "  Created wheel for aplus: filename=aplus-0.11.0-py3-none-any.whl size=4400 sha256=b1105c77140c66f709e3270fc49406e80d47156d4e2b78033bbd9a5ece611b31\n",
            "  Stored in directory: /root/.cache/pip/wheels/e2/ec/10/f765aa7a52b46a9b836531727749cc586db038705bd885a0d5\n",
            "Successfully built aplus\n",
            "Installing collected packages: ipywebrtc, blake3, aplus, xyzservices, websockets, uvloop, traittypes, python-dotenv, pygments, mdurl, jedi, httptools, h11, frozendict, watchfiles, uvicorn, starlette, markdown-it-py, rich, fastapi, vaex-core, vaex-viz, vaex-server, vaex-ml, vaex-hdf5, vaex-astro, ipyvue, ipympl, ipyleaflet, ipydatawidgets, bqplot, pythreejs, ipyvuetify, ipyvolume, vaex-jupyter, vaex\n",
            "  Attempting uninstall: pygments\n",
            "    Found existing installation: Pygments 2.6.1\n",
            "    Uninstalling Pygments-2.6.1:\n",
            "      Successfully uninstalled Pygments-2.6.1\n",
            "Successfully installed aplus-0.11.0 blake3-0.3.3 bqplot-0.12.36 fastapi-0.95.0 frozendict-2.3.6 h11-0.14.0 httptools-0.5.0 ipydatawidgets-4.3.3 ipyleaflet-0.17.2 ipympl-0.9.3 ipyvolume-0.6.1 ipyvue-1.9.0 ipyvuetify-1.8.5 ipywebrtc-0.6.0 jedi-0.18.2 markdown-it-py-2.2.0 mdurl-0.1.2 pygments-2.14.0 python-dotenv-1.0.0 pythreejs-2.4.2 rich-13.3.2 starlette-0.26.1 traittypes-0.2.1 uvicorn-0.21.1 uvloop-0.17.0 vaex-4.16.0 vaex-astro-0.9.3 vaex-core-4.16.1 vaex-hdf5-0.14.1 vaex-jupyter-0.8.1 vaex-ml-0.18.1 vaex-server-0.8.1 vaex-viz-0.5.4 watchfiles-0.18.1 websockets-10.4 xyzservices-2023.2.0\n"
          ]
        },
        {
          "output_type": "display_data",
          "data": {
            "application/vnd.colab-display-data+json": {
              "pip_warning": {
                "packages": [
                  "pygments"
                ]
              }
            }
          },
          "metadata": {}
        }
      ],
      "source": [
        "!pip install vaex"
      ]
    },
    {
      "cell_type": "code",
      "execution_count": null,
      "metadata": {
        "id": "m-FQ2bNzGfX4"
      },
      "outputs": [],
      "source": [
        "import vaex as vx"
      ]
    },
    {
      "cell_type": "code",
      "execution_count": null,
      "metadata": {
        "id": "NUi_FTMPGljF",
        "colab": {
          "base_uri": "https://localhost:8080/"
        },
        "outputId": "8938740e-e45b-4774-8213-a54009b2661e"
      },
      "outputs": [
        {
          "output_type": "stream",
          "name": "stdout",
          "text": [
            "CPU times: user 11.9 ms, sys: 971 µs, total: 12.8 ms\n",
            "Wall time: 14.2 ms\n"
          ]
        }
      ],
      "source": [
        "%%time\n",
        "data5=vx.read_csv('/content/forecasting_case_study.xlsx - Sheet1.csv')"
      ]
    },
    {
      "cell_type": "code",
      "execution_count": null,
      "metadata": {
        "colab": {
          "base_uri": "https://localhost:8080/",
          "height": 306
        },
        "id": "F7yoK9SAGwZk",
        "outputId": "0024a131-fa2f-470d-9172-839b1224083d"
      },
      "outputs": [
        {
          "output_type": "stream",
          "name": "stdout",
          "text": [
            "CPU times: user 1.08 ms, sys: 14 µs, total: 1.09 ms\n",
            "Wall time: 1.1 ms\n"
          ]
        },
        {
          "output_type": "execute_result",
          "data": {
            "text/html": [
              "<table>\n",
              "<thead>\n",
              "<tr><th>#                            </th><th>Product  </th><th>date     </th><th style=\"text-align: right;\">  Sales</th><th>Price Discount (%)  </th><th style=\"text-align: right;\">  In-Store Promo</th><th style=\"text-align: right;\">  Catalogue Promo</th><th style=\"text-align: right;\">  Store End Promo</th><th style=\"text-align: right;\">  Google_Mobility</th><th style=\"text-align: right;\">  Covid_Flag</th><th style=\"text-align: right;\">  V_DAY</th><th style=\"text-align: right;\">  EASTER</th><th style=\"text-align: right;\">  CHRISTMAS</th></tr>\n",
              "</thead>\n",
              "<tbody>\n",
              "<tr><td><i style='opacity: 0.6'>0</i></td><td>SKU1     </td><td>2/5/2017 </td><td style=\"text-align: right;\">  27750</td><td>0%                  </td><td style=\"text-align: right;\">               0</td><td style=\"text-align: right;\">                0</td><td style=\"text-align: right;\">                0</td><td style=\"text-align: right;\">                0</td><td style=\"text-align: right;\">           0</td><td style=\"text-align: right;\">      0</td><td style=\"text-align: right;\">       0</td><td style=\"text-align: right;\">          0</td></tr>\n",
              "<tr><td><i style='opacity: 0.6'>1</i></td><td>SKU1     </td><td>2/12/2017</td><td style=\"text-align: right;\">  29023</td><td>0%                  </td><td style=\"text-align: right;\">               1</td><td style=\"text-align: right;\">                0</td><td style=\"text-align: right;\">                1</td><td style=\"text-align: right;\">                0</td><td style=\"text-align: right;\">           0</td><td style=\"text-align: right;\">      1</td><td style=\"text-align: right;\">       0</td><td style=\"text-align: right;\">          0</td></tr>\n",
              "<tr><td><i style='opacity: 0.6'>2</i></td><td>SKU1     </td><td>2/19/2017</td><td style=\"text-align: right;\">  45630</td><td>17%                 </td><td style=\"text-align: right;\">               0</td><td style=\"text-align: right;\">                0</td><td style=\"text-align: right;\">                0</td><td style=\"text-align: right;\">                0</td><td style=\"text-align: right;\">           0</td><td style=\"text-align: right;\">      0</td><td style=\"text-align: right;\">       0</td><td style=\"text-align: right;\">          0</td></tr>\n",
              "<tr><td><i style='opacity: 0.6'>3</i></td><td>SKU1     </td><td>2/26/2017</td><td style=\"text-align: right;\">  26789</td><td>0%                  </td><td style=\"text-align: right;\">               1</td><td style=\"text-align: right;\">                0</td><td style=\"text-align: right;\">                1</td><td style=\"text-align: right;\">                0</td><td style=\"text-align: right;\">           0</td><td style=\"text-align: right;\">      0</td><td style=\"text-align: right;\">       0</td><td style=\"text-align: right;\">          0</td></tr>\n",
              "<tr><td><i style='opacity: 0.6'>4</i></td><td>SKU1     </td><td>3/5/2017 </td><td style=\"text-align: right;\">  41999</td><td>17%                 </td><td style=\"text-align: right;\">               0</td><td style=\"text-align: right;\">                0</td><td style=\"text-align: right;\">                0</td><td style=\"text-align: right;\">                0</td><td style=\"text-align: right;\">           0</td><td style=\"text-align: right;\">      0</td><td style=\"text-align: right;\">       0</td><td style=\"text-align: right;\">          0</td></tr>\n",
              "<tr><td><i style='opacity: 0.6'>5</i></td><td>SKU1     </td><td>3/12/2017</td><td style=\"text-align: right;\">  29731</td><td>0%                  </td><td style=\"text-align: right;\">               0</td><td style=\"text-align: right;\">                0</td><td style=\"text-align: right;\">                0</td><td style=\"text-align: right;\">                0</td><td style=\"text-align: right;\">           0</td><td style=\"text-align: right;\">      0</td><td style=\"text-align: right;\">       0</td><td style=\"text-align: right;\">          0</td></tr>\n",
              "<tr><td><i style='opacity: 0.6'>6</i></td><td>SKU1     </td><td>3/19/2017</td><td style=\"text-align: right;\">  27365</td><td>0%                  </td><td style=\"text-align: right;\">               1</td><td style=\"text-align: right;\">                0</td><td style=\"text-align: right;\">                0</td><td style=\"text-align: right;\">                0</td><td style=\"text-align: right;\">           0</td><td style=\"text-align: right;\">      0</td><td style=\"text-align: right;\">       0</td><td style=\"text-align: right;\">          0</td></tr>\n",
              "<tr><td><i style='opacity: 0.6'>7</i></td><td>SKU1     </td><td>3/26/2017</td><td style=\"text-align: right;\">  27722</td><td>0%                  </td><td style=\"text-align: right;\">               1</td><td style=\"text-align: right;\">                0</td><td style=\"text-align: right;\">                1</td><td style=\"text-align: right;\">                0</td><td style=\"text-align: right;\">           0</td><td style=\"text-align: right;\">      0</td><td style=\"text-align: right;\">       0</td><td style=\"text-align: right;\">          0</td></tr>\n",
              "<tr><td><i style='opacity: 0.6'>8</i></td><td>SKU1     </td><td>4/2/2017 </td><td style=\"text-align: right;\">  44339</td><td>17%                 </td><td style=\"text-align: right;\">               1</td><td style=\"text-align: right;\">                0</td><td style=\"text-align: right;\">                0</td><td style=\"text-align: right;\">                0</td><td style=\"text-align: right;\">           0</td><td style=\"text-align: right;\">      0</td><td style=\"text-align: right;\">       0</td><td style=\"text-align: right;\">          0</td></tr>\n",
              "<tr><td><i style='opacity: 0.6'>9</i></td><td>SKU1     </td><td>4/9/2017 </td><td style=\"text-align: right;\">  54655</td><td>17%                 </td><td style=\"text-align: right;\">               1</td><td style=\"text-align: right;\">                0</td><td style=\"text-align: right;\">                0</td><td style=\"text-align: right;\">                0</td><td style=\"text-align: right;\">           0</td><td style=\"text-align: right;\">      0</td><td style=\"text-align: right;\">       1</td><td style=\"text-align: right;\">          0</td></tr>\n",
              "</tbody>\n",
              "</table>"
            ],
            "text/plain": [
              "  #  Product    date         Sales  Price Discount (%)      In-Store Promo    Catalogue Promo    Store End Promo    Google_Mobility    Covid_Flag    V_DAY    EASTER    CHRISTMAS\n",
              "  0  SKU1       2/5/2017     27750  0%                                   0                  0                  0                  0             0        0         0            0\n",
              "  1  SKU1       2/12/2017    29023  0%                                   1                  0                  1                  0             0        1         0            0\n",
              "  2  SKU1       2/19/2017    45630  17%                                  0                  0                  0                  0             0        0         0            0\n",
              "  3  SKU1       2/26/2017    26789  0%                                   1                  0                  1                  0             0        0         0            0\n",
              "  4  SKU1       3/5/2017     41999  17%                                  0                  0                  0                  0             0        0         0            0\n",
              "  5  SKU1       3/12/2017    29731  0%                                   0                  0                  0                  0             0        0         0            0\n",
              "  6  SKU1       3/19/2017    27365  0%                                   1                  0                  0                  0             0        0         0            0\n",
              "  7  SKU1       3/26/2017    27722  0%                                   1                  0                  1                  0             0        0         0            0\n",
              "  8  SKU1       4/2/2017     44339  17%                                  1                  0                  0                  0             0        0         0            0\n",
              "  9  SKU1       4/9/2017     54655  17%                                  1                  0                  0                  0             0        0         1            0"
            ]
          },
          "metadata": {},
          "execution_count": 3
        }
      ],
      "source": [
        "%%time\n",
        "data5.head()"
      ]
    },
    {
      "cell_type": "code",
      "source": [],
      "metadata": {
        "id": "bYcPJ8-q4z7O"
      },
      "execution_count": null,
      "outputs": []
    },
    {
      "cell_type": "code",
      "source": [],
      "metadata": {
        "id": "3huMlPdK41LY"
      },
      "execution_count": null,
      "outputs": []
    },
    {
      "cell_type": "code",
      "source": [],
      "metadata": {
        "id": "Pl89m8QZ43OP"
      },
      "execution_count": null,
      "outputs": []
    },
    {
      "cell_type": "markdown",
      "metadata": {
        "id": "EEjP0knREaRZ"
      },
      "source": [
        "### Using Polars"
      ]
    },
    {
      "cell_type": "code",
      "execution_count": null,
      "metadata": {
        "colab": {
          "base_uri": "https://localhost:8080/"
        },
        "id": "45LTDsZeEhLa",
        "outputId": "21bbc313-2471-4e71-a441-14641b34c055"
      },
      "outputs": [
        {
          "output_type": "stream",
          "name": "stdout",
          "text": [
            "Looking in indexes: https://pypi.org/simple, https://us-python.pkg.dev/colab-wheels/public/simple/\n",
            "Collecting polars\n",
            "  Downloading polars-0.16.14-cp37-abi3-manylinux_2_17_x86_64.manylinux2014_x86_64.whl (16.2 MB)\n",
            "\u001b[2K     \u001b[90m━━━━━━━━━━━━━━━━━━━━━━━━━━━━━━━━━━━━━━━━\u001b[0m \u001b[32m16.2/16.2 MB\u001b[0m \u001b[31m45.8 MB/s\u001b[0m eta \u001b[36m0:00:00\u001b[0m\n",
            "\u001b[?25hRequirement already satisfied: typing_extensions>=4.0.1 in /usr/local/lib/python3.9/dist-packages (from polars) (4.5.0)\n",
            "Installing collected packages: polars\n",
            "Successfully installed polars-0.16.14\n"
          ]
        }
      ],
      "source": [
        "!pip install polars"
      ]
    },
    {
      "cell_type": "code",
      "execution_count": null,
      "metadata": {
        "id": "0mcpqpf6Eoe7"
      },
      "outputs": [],
      "source": [
        "import polars as pl"
      ]
    },
    {
      "cell_type": "code",
      "execution_count": null,
      "metadata": {
        "id": "Zr4hGDrlEvQA",
        "colab": {
          "base_uri": "https://localhost:8080/"
        },
        "outputId": "c540db41-6b8e-4838-b1ee-2162ed9b6b7e"
      },
      "outputs": [
        {
          "output_type": "stream",
          "name": "stdout",
          "text": [
            "CPU times: user 6.98 ms, sys: 1.89 ms, total: 8.87 ms\n",
            "Wall time: 14.5 ms\n"
          ]
        }
      ],
      "source": [
        "# using polars to read the data\n",
        "# start7=time.time()\n",
        "%%time\n",
        "data4=pl.read_csv('/content/forecasting_case_study.xlsx - Sheet1.csv',dtypes ={'Google_Mobility':pl.Float64})\n",
        "#end7=time.time()\n",
        "#pl_time=end7-start1\n",
        "#print(pl_time)"
      ]
    },
    {
      "cell_type": "code",
      "execution_count": null,
      "metadata": {
        "colab": {
          "base_uri": "https://localhost:8080/",
          "height": 324
        },
        "id": "UkjsZO47E6-j",
        "outputId": "c75dbf3b-f544-49b0-8014-98df0f09d4a2"
      },
      "outputs": [
        {
          "output_type": "stream",
          "name": "stdout",
          "text": [
            "CPU times: user 106 µs, sys: 17 µs, total: 123 µs\n",
            "Wall time: 128 µs\n"
          ]
        },
        {
          "output_type": "execute_result",
          "data": {
            "text/plain": [
              "shape: (5, 12)\n",
              "┌─────────┬───────────┬───────┬────────────────────┬───┬────────────┬───────┬────────┬───────────┐\n",
              "│ Product ┆ date      ┆ Sales ┆ Price Discount (%) ┆ … ┆ Covid_Flag ┆ V_DAY ┆ EASTER ┆ CHRISTMAS │\n",
              "│ ---     ┆ ---       ┆ ---   ┆ ---                ┆   ┆ ---        ┆ ---   ┆ ---    ┆ ---       │\n",
              "│ str     ┆ str       ┆ i64   ┆ str                ┆   ┆ i64        ┆ i64   ┆ i64    ┆ i64       │\n",
              "╞═════════╪═══════════╪═══════╪════════════════════╪═══╪════════════╪═══════╪════════╪═══════════╡\n",
              "│ SKU1    ┆ 2/5/2017  ┆ 27750 ┆ 0%                 ┆ … ┆ 0          ┆ 0     ┆ 0      ┆ 0         │\n",
              "│ SKU1    ┆ 2/12/2017 ┆ 29023 ┆ 0%                 ┆ … ┆ 0          ┆ 1     ┆ 0      ┆ 0         │\n",
              "│ SKU1    ┆ 2/19/2017 ┆ 45630 ┆ 17%                ┆ … ┆ 0          ┆ 0     ┆ 0      ┆ 0         │\n",
              "│ SKU1    ┆ 2/26/2017 ┆ 26789 ┆ 0%                 ┆ … ┆ 0          ┆ 0     ┆ 0      ┆ 0         │\n",
              "│ SKU1    ┆ 3/5/2017  ┆ 41999 ┆ 17%                ┆ … ┆ 0          ┆ 0     ┆ 0      ┆ 0         │\n",
              "└─────────┴───────────┴───────┴────────────────────┴───┴────────────┴───────┴────────┴───────────┘"
            ],
            "text/html": [
              "<div><style>\n",
              ".dataframe > thead > tr > th,\n",
              ".dataframe > tbody > tr > td {\n",
              "  text-align: right;\n",
              "}\n",
              "</style>\n",
              "<small>shape: (5, 12)</small><table border=\"1\" class=\"dataframe\"><thead><tr><th>Product</th><th>date</th><th>Sales</th><th>Price Discount (%)</th><th>In-Store Promo</th><th>Catalogue Promo</th><th>Store End Promo</th><th>Google_Mobility</th><th>Covid_Flag</th><th>V_DAY</th><th>EASTER</th><th>CHRISTMAS</th></tr><tr><td>str</td><td>str</td><td>i64</td><td>str</td><td>i64</td><td>i64</td><td>i64</td><td>f64</td><td>i64</td><td>i64</td><td>i64</td><td>i64</td></tr></thead><tbody><tr><td>&quot;SKU1&quot;</td><td>&quot;2/5/2017&quot;</td><td>27750</td><td>&quot;0%&quot;</td><td>0</td><td>0</td><td>0</td><td>0.0</td><td>0</td><td>0</td><td>0</td><td>0</td></tr><tr><td>&quot;SKU1&quot;</td><td>&quot;2/12/2017&quot;</td><td>29023</td><td>&quot;0%&quot;</td><td>1</td><td>0</td><td>1</td><td>0.0</td><td>0</td><td>1</td><td>0</td><td>0</td></tr><tr><td>&quot;SKU1&quot;</td><td>&quot;2/19/2017&quot;</td><td>45630</td><td>&quot;17%&quot;</td><td>0</td><td>0</td><td>0</td><td>0.0</td><td>0</td><td>0</td><td>0</td><td>0</td></tr><tr><td>&quot;SKU1&quot;</td><td>&quot;2/26/2017&quot;</td><td>26789</td><td>&quot;0%&quot;</td><td>1</td><td>0</td><td>1</td><td>0.0</td><td>0</td><td>0</td><td>0</td><td>0</td></tr><tr><td>&quot;SKU1&quot;</td><td>&quot;3/5/2017&quot;</td><td>41999</td><td>&quot;17%&quot;</td><td>0</td><td>0</td><td>0</td><td>0.0</td><td>0</td><td>0</td><td>0</td><td>0</td></tr></tbody></table></div>"
            ]
          },
          "metadata": {},
          "execution_count": 16
        }
      ],
      "source": [
        "%%time\n",
        "data4.head()"
      ]
    },
    {
      "cell_type": "code",
      "execution_count": null,
      "metadata": {
        "id": "1l_wStheXdYu"
      },
      "outputs": [],
      "source": []
    }
  ],
  "metadata": {
    "colab": {
      "collapsed_sections": [
        "GQqdVxipjoSd",
        "oS2GGOdt3T2X",
        "g51AA7wIF7o0",
        "EEjP0knREaRZ"
      ],
      "provenance": []
    },
    "kernelspec": {
      "display_name": "Python 3",
      "name": "python3"
    },
    "language_info": {
      "name": "python"
    }
  },
  "nbformat": 4,
  "nbformat_minor": 0
}